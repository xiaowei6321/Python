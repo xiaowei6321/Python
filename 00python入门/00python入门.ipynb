{
 "cells": [
  {
   "cell_type": "code",
   "execution_count": null,
   "id": "initial_id",
   "metadata": {
    "collapsed": true
   },
   "outputs": [],
   "source": [
    "from enum import Enum\n",
    "class ServiceLifeTime(Enum):\n",
    "    SINGLETON =1\n",
    "    TRANSIENT =2\n",
    "    \n",
    "class ServiceDescriptor:\n",
    "    def __init__(self,serviceType,implementationType,serviceLifetime):\n",
    "        self.serviceType = serviceType\n",
    "        self.implementationType = implementationType\n",
    "        self.serviceLifetime = serviceLifetime\n",
    "    \n",
    "class ServiceCollection:\n",
    "    def __init__(self):\n",
    "        self._descriptors = {}\n",
    "        \n",
    "    def add(self,serviceType,implementationType,serviceLifetime):\n",
    "        self._descriptors[serviceType] = ServiceDescriptor(serviceType,implementationType,serviceLifetime)\n",
    "        \n",
    "    \n",
    "class ServiceProvider:\n",
    "    def __init__(self,serviceCollection):\n",
    "        self._serviceCollection = serviceCollection\n",
    "        self._singletons = {}\n",
    "        \n",
    "    def get_service(self,serviceType):\n",
    "        descriptor = self._serviceCollection._descriptors[serviceType]\n",
    "        \n",
    "        if descriptor is None:\n",
    "            raise Exception(\"Service not found\")\n",
    "        if descriptor.serviceLifetime==ServiceLifeTime.TRANSIENT:\n",
    "            return self._create_service(descriptor)\n",
    "        elif descriptor.serviceLifetime==ServiceLifeTime.SINGLETON:\n",
    "            if serviceType not in self._singletons:\n",
    "                self._singletons[serviceType] = self._create_service(descriptor)\n",
    "            return self._singletons[serviceType]\n",
    "        else:\n",
    "            raise Exception(\"Unknown lifetime\")\n",
    "        \n",
    "            \n"
   ]
  },
  {
   "cell_type": "code",
   "execution_count": null,
   "outputs": [],
   "source": [],
   "metadata": {
    "collapsed": false
   },
   "id": "618aff45008298b1"
  },
  {
   "cell_type": "code",
   "execution_count": 7,
   "outputs": [],
   "source": [
    "import pyautogui\n",
    "# 1500 1400\n",
    "pyautogui.moveTo(1500,1400)"
   ],
   "metadata": {
    "collapsed": false,
    "ExecuteTime": {
     "end_time": "2023-08-10T18:32:36.676608300Z",
     "start_time": "2023-08-10T18:32:36.571438900Z"
    }
   },
   "id": "eb3a7accaab22d13"
  },
  {
   "cell_type": "code",
   "execution_count": 3,
   "outputs": [],
   "source": [],
   "metadata": {
    "collapsed": false,
    "ExecuteTime": {
     "end_time": "2023-08-10T18:31:32.047696900Z",
     "start_time": "2023-08-10T18:31:32.033795700Z"
    }
   },
   "id": "657ad209c763b9c1"
  },
  {
   "cell_type": "code",
   "execution_count": null,
   "outputs": [],
   "source": [],
   "metadata": {
    "collapsed": false
   },
   "id": "3edd6913ae8f4109"
  }
 ],
 "metadata": {
  "kernelspec": {
   "display_name": "Python 3",
   "language": "python",
   "name": "python3"
  },
  "language_info": {
   "codemirror_mode": {
    "name": "ipython",
    "version": 2
   },
   "file_extension": ".py",
   "mimetype": "text/x-python",
   "name": "python",
   "nbconvert_exporter": "python",
   "pygments_lexer": "ipython2",
   "version": "2.7.6"
  }
 },
 "nbformat": 4,
 "nbformat_minor": 5
}
