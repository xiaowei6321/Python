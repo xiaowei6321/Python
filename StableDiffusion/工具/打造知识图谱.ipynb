{
 "cells": [
  {
   "cell_type": "markdown",
   "source": [
    "打造知识图谱\n",
    "\n",
    "模型、参数、提示词\n",
    "\n",
    "通过关键词的形式，将知识点串联起来\n",
    "\n",
    "图谱的构建、用于知识点的串联\n",
    "\n",
    "倒排索引\n",
    "\n"
   ],
   "metadata": {
    "collapsed": false
   }
  }
 ],
 "metadata": {
  "kernelspec": {
   "display_name": "Python 3",
   "language": "python",
   "name": "python3"
  },
  "language_info": {
   "codemirror_mode": {
    "name": "ipython",
    "version": 2
   },
   "file_extension": ".py",
   "mimetype": "text/x-python",
   "name": "python",
   "nbconvert_exporter": "python",
   "pygments_lexer": "ipython2",
   "version": "2.7.6"
  }
 },
 "nbformat": 4,
 "nbformat_minor": 0
}
