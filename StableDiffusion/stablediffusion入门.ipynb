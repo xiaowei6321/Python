{
 "cells": [
  {
   "cell_type": "markdown",
   "source": [
    "\n",
    "# 入门\n"
   ],
   "metadata": {
    "collapsed": false
   }
  },
  {
   "cell_type": "code",
   "execution_count": 1,
   "outputs": [],
   "source": [
    "import os"
   ],
   "metadata": {
    "collapsed": false,
    "ExecuteTime": {
     "end_time": "2023-05-21T03:06:30.463137Z",
     "start_time": "2023-05-21T03:06:30.461108300Z"
    }
   }
  },
  {
   "cell_type": "code",
   "execution_count": 2,
   "outputs": [
    {
     "data": {
      "text/plain": "1"
     },
     "execution_count": 2,
     "metadata": {},
     "output_type": "execute_result"
    }
   ],
   "source": [
    "# 打开应用\n",
    "os.system(\"D:\\Program Files\\MagicBook\\MagicBook.exe\")"
   ],
   "metadata": {
    "collapsed": false,
    "ExecuteTime": {
     "end_time": "2023-05-21T03:06:48.530331500Z",
     "start_time": "2023-05-21T03:06:48.509551300Z"
    }
   }
  },
  {
   "cell_type": "code",
   "execution_count": null,
   "outputs": [],
   "source": [
    "# 导入模块\n",
    "import pyautogui"
   ],
   "metadata": {
    "collapsed": false
   }
  },
  {
   "cell_type": "code",
   "execution_count": null,
   "outputs": [],
   "source": [
    "# 启动应用\n"
   ],
   "metadata": {
    "collapsed": false
   }
  },
  {
   "cell_type": "code",
   "execution_count": 13,
   "outputs": [],
   "source": [
    "# 导入模块\n",
    "from selenium import webdriver\n",
    "import time"
   ],
   "metadata": {
    "collapsed": false,
    "ExecuteTime": {
     "end_time": "2023-05-21T03:22:47.051387100Z",
     "start_time": "2023-05-21T03:22:47.047873Z"
    }
   }
  },
  {
   "cell_type": "code",
   "execution_count": 5,
   "outputs": [
    {
     "name": "stderr",
     "output_type": "stream",
     "text": [
      "C:\\Users\\Administrator\\AppData\\Local\\Temp\\ipykernel_18472\\2752580684.py:2: DeprecationWarning: executable_path has been deprecated, please pass in a Service object\n",
      "  driver = webdriver.Chrome('D:\\Downloads\\chromedriver_win32\\chromedriver.exe')\n"
     ]
    }
   ],
   "source": [
    "# 打开civitai网页\n",
    "driver = webdriver.Chrome('D:\\Downloads\\chromedriver_win32\\chromedriver.exe')\n",
    "driver.get('https://civitai.com/')"
   ],
   "metadata": {
    "collapsed": false,
    "ExecuteTime": {
     "end_time": "2023-05-21T03:08:00.939627600Z",
     "start_time": "2023-05-21T03:07:52.806982200Z"
    }
   }
  },
  {
   "cell_type": "markdown",
   "source": [
    "## 打开chatgpt网站\n",
    "https://chat.openai.com/?model=gpt-4"
   ],
   "metadata": {
    "collapsed": false
   }
  },
  {
   "cell_type": "code",
   "execution_count": 49,
   "outputs": [
    {
     "name": "stderr",
     "output_type": "stream",
     "text": [
      "C:\\Users\\Administrator\\AppData\\Local\\Temp\\ipykernel_18472\\4248884430.py:2: DeprecationWarning: executable_path has been deprecated, please pass in a Service object\n",
      "  driver = webdriver.Chrome('D:\\Downloads\\chromedriver_win32\\chromedriver.exe')\n"
     ]
    }
   ],
   "source": [
    "# 打开localhost:7860\n",
    "driver = webdriver.Chrome('D:\\Downloads\\chromedriver_win32\\chromedriver.exe')\n",
    "driver.get('http://localhost:7860/')\n"
   ],
   "metadata": {
    "collapsed": false,
    "ExecuteTime": {
     "end_time": "2023-05-21T07:56:53.800301700Z",
     "start_time": "2023-05-21T07:56:50.498132200Z"
    }
   }
  },
  {
   "cell_type": "code",
   "execution_count": 72,
   "outputs": [],
   "source": [
    "\n",
    "# 修改输入框的值为10\n",
    "driver.execute_script('document.querySelector(\"gradio-app\").shadowRoot.querySelector(\"#txt2img_batch_count\").querySelector(\"input\").value=\"5\"')\n"
   ],
   "metadata": {
    "collapsed": false,
    "ExecuteTime": {
     "end_time": "2023-05-21T08:15:17.861104800Z",
     "start_time": "2023-05-21T08:15:17.853464400Z"
    }
   }
  },
  {
   "cell_type": "code",
   "execution_count": 79,
   "outputs": [],
   "source": [
    "\n",
    "# 修改输入框的值为10\n",
    "driver.execute_script('document.querySelector(\"gradio-app\").shadowRoot.querySelector(\"#txt2img_batch_size\").querySelector(\"input\").value=\"3\"')"
   ],
   "metadata": {
    "collapsed": false,
    "ExecuteTime": {
     "end_time": "2023-05-21T08:23:47.370704Z",
     "start_time": "2023-05-21T08:23:47.361162500Z"
    }
   }
  },
  {
   "cell_type": "code",
   "execution_count": 81,
   "outputs": [],
   "source": [
    "# id=\"txt2img_generate_box\"\n",
    "# 点击事件\n",
    "driver.execute_script('document.querySelector(\"gradio-app\").shadowRoot.querySelector(\"#txt2img_generate\").click()')\n"
   ],
   "metadata": {
    "collapsed": false,
    "ExecuteTime": {
     "end_time": "2023-05-21T08:25:14.082279200Z",
     "start_time": "2023-05-21T08:25:14.042562400Z"
    }
   }
  },
  {
   "cell_type": "code",
   "execution_count": 78,
   "outputs": [],
   "source": [
    "\n"
   ],
   "metadata": {
    "collapsed": false,
    "ExecuteTime": {
     "end_time": "2023-05-21T08:18:43.937182Z",
     "start_time": "2023-05-21T08:18:43.928707500Z"
    }
   }
  },
  {
   "cell_type": "code",
   "execution_count": 60,
   "outputs": [
    {
     "ename": "AttributeError",
     "evalue": "'ShadowRoot' object has no attribute 'id'",
     "output_type": "error",
     "traceback": [
      "\u001B[1;31m---------------------------------------------------------------------------\u001B[0m",
      "\u001B[1;31mAttributeError\u001B[0m                            Traceback (most recent call last)",
      "Cell \u001B[1;32mIn[60], line 2\u001B[0m\n\u001B[0;32m      1\u001B[0m \u001B[38;5;66;03m# 在 Shadow DOM 中定位你的元素\u001B[39;00m\n\u001B[1;32m----> 2\u001B[0m div_element \u001B[38;5;241m=\u001B[39m \u001B[43mdriver\u001B[49m\u001B[38;5;241;43m.\u001B[39;49m\u001B[43mexecute_script\u001B[49m\u001B[43m(\u001B[49m\u001B[38;5;124;43m'\u001B[39;49m\u001B[38;5;124;43mreturn arguments[0].querySelector(\u001B[39;49m\u001B[38;5;124;43m\"\u001B[39;49m\u001B[38;5;124;43m#lightboxModal\u001B[39;49m\u001B[38;5;124;43m\"\u001B[39;49m\u001B[38;5;124;43m)\u001B[39;49m\u001B[38;5;124;43m'\u001B[39;49m\u001B[43m,\u001B[49m\u001B[43m \u001B[49m\u001B[43mshadow_root\u001B[49m\u001B[43m)\u001B[49m\n\u001B[0;32m      3\u001B[0m \u001B[38;5;66;03m# 获取元素的 ID 属性值\u001B[39;00m\n\u001B[0;32m      4\u001B[0m \u001B[38;5;66;03m#element_id = driver.execute_script('return arguments[0].id', div_element)\u001B[39;00m\n",
      "File \u001B[1;32mD:\\Programs\\Python\\Python311\\Lib\\site-packages\\selenium\\webdriver\\remote\\webdriver.py:884\u001B[0m, in \u001B[0;36mWebDriver.execute_script\u001B[1;34m(self, script, *args)\u001B[0m\n\u001B[0;32m    881\u001B[0m converted_args \u001B[38;5;241m=\u001B[39m \u001B[38;5;28mlist\u001B[39m(args)\n\u001B[0;32m    882\u001B[0m command \u001B[38;5;241m=\u001B[39m Command\u001B[38;5;241m.\u001B[39mW3C_EXECUTE_SCRIPT\n\u001B[1;32m--> 884\u001B[0m \u001B[38;5;28;01mreturn\u001B[39;00m \u001B[38;5;28;43mself\u001B[39;49m\u001B[38;5;241;43m.\u001B[39;49m\u001B[43mexecute\u001B[49m\u001B[43m(\u001B[49m\u001B[43mcommand\u001B[49m\u001B[43m,\u001B[49m\u001B[43m \u001B[49m\u001B[43m{\u001B[49m\n\u001B[0;32m    885\u001B[0m \u001B[43m    \u001B[49m\u001B[38;5;124;43m'\u001B[39;49m\u001B[38;5;124;43mscript\u001B[39;49m\u001B[38;5;124;43m'\u001B[39;49m\u001B[43m:\u001B[49m\u001B[43m \u001B[49m\u001B[43mscript\u001B[49m\u001B[43m,\u001B[49m\n\u001B[0;32m    886\u001B[0m \u001B[43m    \u001B[49m\u001B[38;5;124;43m'\u001B[39;49m\u001B[38;5;124;43margs\u001B[39;49m\u001B[38;5;124;43m'\u001B[39;49m\u001B[43m:\u001B[49m\u001B[43m \u001B[49m\u001B[43mconverted_args\u001B[49m\u001B[43m}\u001B[49m\u001B[43m)\u001B[49m[\u001B[38;5;124m'\u001B[39m\u001B[38;5;124mvalue\u001B[39m\u001B[38;5;124m'\u001B[39m]\n",
      "File \u001B[1;32mD:\\Programs\\Python\\Python311\\Lib\\site-packages\\selenium\\webdriver\\remote\\webdriver.py:427\u001B[0m, in \u001B[0;36mWebDriver.execute\u001B[1;34m(self, driver_command, params)\u001B[0m\n\u001B[0;32m    424\u001B[0m     \u001B[38;5;28;01melif\u001B[39;00m \u001B[38;5;124m'\u001B[39m\u001B[38;5;124msessionId\u001B[39m\u001B[38;5;124m'\u001B[39m \u001B[38;5;129;01mnot\u001B[39;00m \u001B[38;5;129;01min\u001B[39;00m params:\n\u001B[0;32m    425\u001B[0m         params[\u001B[38;5;124m'\u001B[39m\u001B[38;5;124msessionId\u001B[39m\u001B[38;5;124m'\u001B[39m] \u001B[38;5;241m=\u001B[39m \u001B[38;5;28mself\u001B[39m\u001B[38;5;241m.\u001B[39msession_id\n\u001B[1;32m--> 427\u001B[0m params \u001B[38;5;241m=\u001B[39m \u001B[38;5;28;43mself\u001B[39;49m\u001B[38;5;241;43m.\u001B[39;49m\u001B[43m_wrap_value\u001B[49m\u001B[43m(\u001B[49m\u001B[43mparams\u001B[49m\u001B[43m)\u001B[49m\n\u001B[0;32m    428\u001B[0m response \u001B[38;5;241m=\u001B[39m \u001B[38;5;28mself\u001B[39m\u001B[38;5;241m.\u001B[39mcommand_executor\u001B[38;5;241m.\u001B[39mexecute(driver_command, params)\n\u001B[0;32m    429\u001B[0m \u001B[38;5;28;01mif\u001B[39;00m response:\n",
      "File \u001B[1;32mD:\\Programs\\Python\\Python311\\Lib\\site-packages\\selenium\\webdriver\\remote\\webdriver.py:380\u001B[0m, in \u001B[0;36mWebDriver._wrap_value\u001B[1;34m(self, value)\u001B[0m\n\u001B[0;32m    378\u001B[0m     converted \u001B[38;5;241m=\u001B[39m {}\n\u001B[0;32m    379\u001B[0m     \u001B[38;5;28;01mfor\u001B[39;00m key, val \u001B[38;5;129;01min\u001B[39;00m value\u001B[38;5;241m.\u001B[39mitems():\n\u001B[1;32m--> 380\u001B[0m         converted[key] \u001B[38;5;241m=\u001B[39m \u001B[38;5;28;43mself\u001B[39;49m\u001B[38;5;241;43m.\u001B[39;49m\u001B[43m_wrap_value\u001B[49m\u001B[43m(\u001B[49m\u001B[43mval\u001B[49m\u001B[43m)\u001B[49m\n\u001B[0;32m    381\u001B[0m     \u001B[38;5;28;01mreturn\u001B[39;00m converted\n\u001B[0;32m    382\u001B[0m \u001B[38;5;28;01melif\u001B[39;00m \u001B[38;5;28misinstance\u001B[39m(value, \u001B[38;5;28mself\u001B[39m\u001B[38;5;241m.\u001B[39m_web_element_cls):\n",
      "File \u001B[1;32mD:\\Programs\\Python\\Python311\\Lib\\site-packages\\selenium\\webdriver\\remote\\webdriver.py:387\u001B[0m, in \u001B[0;36mWebDriver._wrap_value\u001B[1;34m(self, value)\u001B[0m\n\u001B[0;32m    385\u001B[0m     \u001B[38;5;28;01mreturn\u001B[39;00m {\u001B[38;5;124m'\u001B[39m\u001B[38;5;124mshadow-6066-11e4-a52e-4f735466cecf\u001B[39m\u001B[38;5;124m'\u001B[39m: value\u001B[38;5;241m.\u001B[39mid}\n\u001B[0;32m    386\u001B[0m \u001B[38;5;28;01melif\u001B[39;00m \u001B[38;5;28misinstance\u001B[39m(value, \u001B[38;5;28mlist\u001B[39m):\n\u001B[1;32m--> 387\u001B[0m     \u001B[38;5;28;01mreturn\u001B[39;00m \u001B[38;5;28mlist\u001B[39m(\u001B[38;5;28mself\u001B[39m\u001B[38;5;241m.\u001B[39m_wrap_value(item) \u001B[38;5;28;01mfor\u001B[39;00m item \u001B[38;5;129;01min\u001B[39;00m value)\n\u001B[0;32m    388\u001B[0m \u001B[38;5;28;01melse\u001B[39;00m:\n\u001B[0;32m    389\u001B[0m     \u001B[38;5;28;01mreturn\u001B[39;00m value\n",
      "File \u001B[1;32mD:\\Programs\\Python\\Python311\\Lib\\site-packages\\selenium\\webdriver\\remote\\webdriver.py:387\u001B[0m, in \u001B[0;36m<genexpr>\u001B[1;34m(.0)\u001B[0m\n\u001B[0;32m    385\u001B[0m     \u001B[38;5;28;01mreturn\u001B[39;00m {\u001B[38;5;124m'\u001B[39m\u001B[38;5;124mshadow-6066-11e4-a52e-4f735466cecf\u001B[39m\u001B[38;5;124m'\u001B[39m: value\u001B[38;5;241m.\u001B[39mid}\n\u001B[0;32m    386\u001B[0m \u001B[38;5;28;01melif\u001B[39;00m \u001B[38;5;28misinstance\u001B[39m(value, \u001B[38;5;28mlist\u001B[39m):\n\u001B[1;32m--> 387\u001B[0m     \u001B[38;5;28;01mreturn\u001B[39;00m \u001B[38;5;28mlist\u001B[39m(\u001B[38;5;28;43mself\u001B[39;49m\u001B[38;5;241;43m.\u001B[39;49m\u001B[43m_wrap_value\u001B[49m\u001B[43m(\u001B[49m\u001B[43mitem\u001B[49m\u001B[43m)\u001B[49m \u001B[38;5;28;01mfor\u001B[39;00m item \u001B[38;5;129;01min\u001B[39;00m value)\n\u001B[0;32m    388\u001B[0m \u001B[38;5;28;01melse\u001B[39;00m:\n\u001B[0;32m    389\u001B[0m     \u001B[38;5;28;01mreturn\u001B[39;00m value\n",
      "File \u001B[1;32mD:\\Programs\\Python\\Python311\\Lib\\site-packages\\selenium\\webdriver\\remote\\webdriver.py:385\u001B[0m, in \u001B[0;36mWebDriver._wrap_value\u001B[1;34m(self, value)\u001B[0m\n\u001B[0;32m    383\u001B[0m     \u001B[38;5;28;01mreturn\u001B[39;00m {\u001B[38;5;124m'\u001B[39m\u001B[38;5;124melement-6066-11e4-a52e-4f735466cecf\u001B[39m\u001B[38;5;124m'\u001B[39m: value\u001B[38;5;241m.\u001B[39mid}\n\u001B[0;32m    384\u001B[0m \u001B[38;5;28;01melif\u001B[39;00m \u001B[38;5;28misinstance\u001B[39m(value, \u001B[38;5;28mself\u001B[39m\u001B[38;5;241m.\u001B[39m_shadowroot_cls):\n\u001B[1;32m--> 385\u001B[0m     \u001B[38;5;28;01mreturn\u001B[39;00m {\u001B[38;5;124m'\u001B[39m\u001B[38;5;124mshadow-6066-11e4-a52e-4f735466cecf\u001B[39m\u001B[38;5;124m'\u001B[39m: \u001B[43mvalue\u001B[49m\u001B[38;5;241;43m.\u001B[39;49m\u001B[43mid\u001B[49m}\n\u001B[0;32m    386\u001B[0m \u001B[38;5;28;01melif\u001B[39;00m \u001B[38;5;28misinstance\u001B[39m(value, \u001B[38;5;28mlist\u001B[39m):\n\u001B[0;32m    387\u001B[0m     \u001B[38;5;28;01mreturn\u001B[39;00m \u001B[38;5;28mlist\u001B[39m(\u001B[38;5;28mself\u001B[39m\u001B[38;5;241m.\u001B[39m_wrap_value(item) \u001B[38;5;28;01mfor\u001B[39;00m item \u001B[38;5;129;01min\u001B[39;00m value)\n",
      "\u001B[1;31mAttributeError\u001B[0m: 'ShadowRoot' object has no attribute 'id'"
     ]
    }
   ],
   "source": [
    "\n",
    "# 获取元素的 ID 属性值\n",
    "#element_id = driver.execute_script('return arguments[0].id', div_element)\n",
    "\n"
   ],
   "metadata": {
    "collapsed": false,
    "ExecuteTime": {
     "end_time": "2023-05-21T08:04:51.185941900Z",
     "start_time": "2023-05-21T08:04:51.152911Z"
    }
   }
  },
  {
   "cell_type": "code",
   "execution_count": 28,
   "outputs": [
    {
     "ename": "AttributeError",
     "evalue": "'ShadowRoot' object has no attribute 'id'",
     "output_type": "error",
     "traceback": [
      "\u001B[1;31m---------------------------------------------------------------------------\u001B[0m",
      "\u001B[1;31mAttributeError\u001B[0m                            Traceback (most recent call last)",
      "Cell \u001B[1;32mIn[28], line 2\u001B[0m\n\u001B[0;32m      1\u001B[0m \u001B[38;5;66;03m# 在 Shadow DOM 中定位你的元素\u001B[39;00m\n\u001B[1;32m----> 2\u001B[0m div_element \u001B[38;5;241m=\u001B[39m \u001B[43mdriver\u001B[49m\u001B[38;5;241;43m.\u001B[39;49m\u001B[43mexecute_script\u001B[49m\u001B[43m(\u001B[49m\u001B[38;5;124;43m'\u001B[39;49m\u001B[38;5;124;43mreturn arguments[0].querySelector(\u001B[39;49m\u001B[38;5;124;43m\"\u001B[39;49m\u001B[38;5;124;43m#txt2img_batch_count\u001B[39;49m\u001B[38;5;124;43m\"\u001B[39;49m\u001B[38;5;124;43m)\u001B[39;49m\u001B[38;5;124;43m'\u001B[39;49m\u001B[43m,\u001B[49m\u001B[43m \u001B[49m\u001B[43mshadow_root\u001B[49m\u001B[43m)\u001B[49m\n",
      "File \u001B[1;32mD:\\Programs\\Python\\Python311\\Lib\\site-packages\\selenium\\webdriver\\remote\\webdriver.py:884\u001B[0m, in \u001B[0;36mWebDriver.execute_script\u001B[1;34m(self, script, *args)\u001B[0m\n\u001B[0;32m    881\u001B[0m converted_args \u001B[38;5;241m=\u001B[39m \u001B[38;5;28mlist\u001B[39m(args)\n\u001B[0;32m    882\u001B[0m command \u001B[38;5;241m=\u001B[39m Command\u001B[38;5;241m.\u001B[39mW3C_EXECUTE_SCRIPT\n\u001B[1;32m--> 884\u001B[0m \u001B[38;5;28;01mreturn\u001B[39;00m \u001B[38;5;28;43mself\u001B[39;49m\u001B[38;5;241;43m.\u001B[39;49m\u001B[43mexecute\u001B[49m\u001B[43m(\u001B[49m\u001B[43mcommand\u001B[49m\u001B[43m,\u001B[49m\u001B[43m \u001B[49m\u001B[43m{\u001B[49m\n\u001B[0;32m    885\u001B[0m \u001B[43m    \u001B[49m\u001B[38;5;124;43m'\u001B[39;49m\u001B[38;5;124;43mscript\u001B[39;49m\u001B[38;5;124;43m'\u001B[39;49m\u001B[43m:\u001B[49m\u001B[43m \u001B[49m\u001B[43mscript\u001B[49m\u001B[43m,\u001B[49m\n\u001B[0;32m    886\u001B[0m \u001B[43m    \u001B[49m\u001B[38;5;124;43m'\u001B[39;49m\u001B[38;5;124;43margs\u001B[39;49m\u001B[38;5;124;43m'\u001B[39;49m\u001B[43m:\u001B[49m\u001B[43m \u001B[49m\u001B[43mconverted_args\u001B[49m\u001B[43m}\u001B[49m\u001B[43m)\u001B[49m[\u001B[38;5;124m'\u001B[39m\u001B[38;5;124mvalue\u001B[39m\u001B[38;5;124m'\u001B[39m]\n",
      "File \u001B[1;32mD:\\Programs\\Python\\Python311\\Lib\\site-packages\\selenium\\webdriver\\remote\\webdriver.py:427\u001B[0m, in \u001B[0;36mWebDriver.execute\u001B[1;34m(self, driver_command, params)\u001B[0m\n\u001B[0;32m    424\u001B[0m     \u001B[38;5;28;01melif\u001B[39;00m \u001B[38;5;124m'\u001B[39m\u001B[38;5;124msessionId\u001B[39m\u001B[38;5;124m'\u001B[39m \u001B[38;5;129;01mnot\u001B[39;00m \u001B[38;5;129;01min\u001B[39;00m params:\n\u001B[0;32m    425\u001B[0m         params[\u001B[38;5;124m'\u001B[39m\u001B[38;5;124msessionId\u001B[39m\u001B[38;5;124m'\u001B[39m] \u001B[38;5;241m=\u001B[39m \u001B[38;5;28mself\u001B[39m\u001B[38;5;241m.\u001B[39msession_id\n\u001B[1;32m--> 427\u001B[0m params \u001B[38;5;241m=\u001B[39m \u001B[38;5;28;43mself\u001B[39;49m\u001B[38;5;241;43m.\u001B[39;49m\u001B[43m_wrap_value\u001B[49m\u001B[43m(\u001B[49m\u001B[43mparams\u001B[49m\u001B[43m)\u001B[49m\n\u001B[0;32m    428\u001B[0m response \u001B[38;5;241m=\u001B[39m \u001B[38;5;28mself\u001B[39m\u001B[38;5;241m.\u001B[39mcommand_executor\u001B[38;5;241m.\u001B[39mexecute(driver_command, params)\n\u001B[0;32m    429\u001B[0m \u001B[38;5;28;01mif\u001B[39;00m response:\n",
      "File \u001B[1;32mD:\\Programs\\Python\\Python311\\Lib\\site-packages\\selenium\\webdriver\\remote\\webdriver.py:380\u001B[0m, in \u001B[0;36mWebDriver._wrap_value\u001B[1;34m(self, value)\u001B[0m\n\u001B[0;32m    378\u001B[0m     converted \u001B[38;5;241m=\u001B[39m {}\n\u001B[0;32m    379\u001B[0m     \u001B[38;5;28;01mfor\u001B[39;00m key, val \u001B[38;5;129;01min\u001B[39;00m value\u001B[38;5;241m.\u001B[39mitems():\n\u001B[1;32m--> 380\u001B[0m         converted[key] \u001B[38;5;241m=\u001B[39m \u001B[38;5;28;43mself\u001B[39;49m\u001B[38;5;241;43m.\u001B[39;49m\u001B[43m_wrap_value\u001B[49m\u001B[43m(\u001B[49m\u001B[43mval\u001B[49m\u001B[43m)\u001B[49m\n\u001B[0;32m    381\u001B[0m     \u001B[38;5;28;01mreturn\u001B[39;00m converted\n\u001B[0;32m    382\u001B[0m \u001B[38;5;28;01melif\u001B[39;00m \u001B[38;5;28misinstance\u001B[39m(value, \u001B[38;5;28mself\u001B[39m\u001B[38;5;241m.\u001B[39m_web_element_cls):\n",
      "File \u001B[1;32mD:\\Programs\\Python\\Python311\\Lib\\site-packages\\selenium\\webdriver\\remote\\webdriver.py:387\u001B[0m, in \u001B[0;36mWebDriver._wrap_value\u001B[1;34m(self, value)\u001B[0m\n\u001B[0;32m    385\u001B[0m     \u001B[38;5;28;01mreturn\u001B[39;00m {\u001B[38;5;124m'\u001B[39m\u001B[38;5;124mshadow-6066-11e4-a52e-4f735466cecf\u001B[39m\u001B[38;5;124m'\u001B[39m: value\u001B[38;5;241m.\u001B[39mid}\n\u001B[0;32m    386\u001B[0m \u001B[38;5;28;01melif\u001B[39;00m \u001B[38;5;28misinstance\u001B[39m(value, \u001B[38;5;28mlist\u001B[39m):\n\u001B[1;32m--> 387\u001B[0m     \u001B[38;5;28;01mreturn\u001B[39;00m \u001B[38;5;28mlist\u001B[39m(\u001B[38;5;28mself\u001B[39m\u001B[38;5;241m.\u001B[39m_wrap_value(item) \u001B[38;5;28;01mfor\u001B[39;00m item \u001B[38;5;129;01min\u001B[39;00m value)\n\u001B[0;32m    388\u001B[0m \u001B[38;5;28;01melse\u001B[39;00m:\n\u001B[0;32m    389\u001B[0m     \u001B[38;5;28;01mreturn\u001B[39;00m value\n",
      "File \u001B[1;32mD:\\Programs\\Python\\Python311\\Lib\\site-packages\\selenium\\webdriver\\remote\\webdriver.py:387\u001B[0m, in \u001B[0;36m<genexpr>\u001B[1;34m(.0)\u001B[0m\n\u001B[0;32m    385\u001B[0m     \u001B[38;5;28;01mreturn\u001B[39;00m {\u001B[38;5;124m'\u001B[39m\u001B[38;5;124mshadow-6066-11e4-a52e-4f735466cecf\u001B[39m\u001B[38;5;124m'\u001B[39m: value\u001B[38;5;241m.\u001B[39mid}\n\u001B[0;32m    386\u001B[0m \u001B[38;5;28;01melif\u001B[39;00m \u001B[38;5;28misinstance\u001B[39m(value, \u001B[38;5;28mlist\u001B[39m):\n\u001B[1;32m--> 387\u001B[0m     \u001B[38;5;28;01mreturn\u001B[39;00m \u001B[38;5;28mlist\u001B[39m(\u001B[38;5;28;43mself\u001B[39;49m\u001B[38;5;241;43m.\u001B[39;49m\u001B[43m_wrap_value\u001B[49m\u001B[43m(\u001B[49m\u001B[43mitem\u001B[49m\u001B[43m)\u001B[49m \u001B[38;5;28;01mfor\u001B[39;00m item \u001B[38;5;129;01min\u001B[39;00m value)\n\u001B[0;32m    388\u001B[0m \u001B[38;5;28;01melse\u001B[39;00m:\n\u001B[0;32m    389\u001B[0m     \u001B[38;5;28;01mreturn\u001B[39;00m value\n",
      "File \u001B[1;32mD:\\Programs\\Python\\Python311\\Lib\\site-packages\\selenium\\webdriver\\remote\\webdriver.py:385\u001B[0m, in \u001B[0;36mWebDriver._wrap_value\u001B[1;34m(self, value)\u001B[0m\n\u001B[0;32m    383\u001B[0m     \u001B[38;5;28;01mreturn\u001B[39;00m {\u001B[38;5;124m'\u001B[39m\u001B[38;5;124melement-6066-11e4-a52e-4f735466cecf\u001B[39m\u001B[38;5;124m'\u001B[39m: value\u001B[38;5;241m.\u001B[39mid}\n\u001B[0;32m    384\u001B[0m \u001B[38;5;28;01melif\u001B[39;00m \u001B[38;5;28misinstance\u001B[39m(value, \u001B[38;5;28mself\u001B[39m\u001B[38;5;241m.\u001B[39m_shadowroot_cls):\n\u001B[1;32m--> 385\u001B[0m     \u001B[38;5;28;01mreturn\u001B[39;00m {\u001B[38;5;124m'\u001B[39m\u001B[38;5;124mshadow-6066-11e4-a52e-4f735466cecf\u001B[39m\u001B[38;5;124m'\u001B[39m: \u001B[43mvalue\u001B[49m\u001B[38;5;241;43m.\u001B[39;49m\u001B[43mid\u001B[49m}\n\u001B[0;32m    386\u001B[0m \u001B[38;5;28;01melif\u001B[39;00m \u001B[38;5;28misinstance\u001B[39m(value, \u001B[38;5;28mlist\u001B[39m):\n\u001B[0;32m    387\u001B[0m     \u001B[38;5;28;01mreturn\u001B[39;00m \u001B[38;5;28mlist\u001B[39m(\u001B[38;5;28mself\u001B[39m\u001B[38;5;241m.\u001B[39m_wrap_value(item) \u001B[38;5;28;01mfor\u001B[39;00m item \u001B[38;5;129;01min\u001B[39;00m value)\n",
      "\u001B[1;31mAttributeError\u001B[0m: 'ShadowRoot' object has no attribute 'id'"
     ]
    }
   ],
   "source": [
    "# 在 Shadow DOM 中定位你的元素\n",
    "\n",
    "div_element = driver.execute_script('return arguments[0].querySelector(\"#txt2img_batch_count\")', shadow_root)"
   ],
   "metadata": {
    "collapsed": false,
    "ExecuteTime": {
     "end_time": "2023-05-21T07:17:15.630502600Z",
     "start_time": "2023-05-21T07:17:15.579782600Z"
    }
   }
  },
  {
   "cell_type": "code",
   "execution_count": null,
   "outputs": [],
   "source": [],
   "metadata": {
    "collapsed": false
   }
  },
  {
   "cell_type": "code",
   "execution_count": 11,
   "outputs": [
    {
     "name": "stderr",
     "output_type": "stream",
     "text": [
      "C:\\Users\\Administrator\\AppData\\Local\\Temp\\ipykernel_18472\\930058442.py:3: DeprecationWarning: find_element_by_xpath is deprecated. Please use find_element(by=By.XPATH, value=xpath) instead\n",
      "  div = driver.find_element_by_xpath('//*[@id=\"txt2img_batch_count\"]')\n"
     ]
    },
    {
     "ename": "NoSuchElementException",
     "evalue": "Message: no such element: Unable to locate element: {\"method\":\"xpath\",\"selector\":\"//*[@id=\"txt2img_batch_count\"]\"}\n  (Session info: chrome=113.0.5672.127)\nStacktrace:\nBacktrace:\n\tGetHandleVerifier [0x00CB8893+48451]\n\t(No symbol) [0x00C4B8A1]\n\t(No symbol) [0x00B55058]\n\t(No symbol) [0x00B80467]\n\t(No symbol) [0x00B8069B]\n\t(No symbol) [0x00BADD92]\n\t(No symbol) [0x00B9A304]\n\t(No symbol) [0x00BAC482]\n\t(No symbol) [0x00B9A0B6]\n\t(No symbol) [0x00B77E08]\n\t(No symbol) [0x00B78F2D]\n\tGetHandleVerifier [0x00F18E3A+2540266]\n\tGetHandleVerifier [0x00F58959+2801161]\n\tGetHandleVerifier [0x00F5295C+2776588]\n\tGetHandleVerifier [0x00D42280+612144]\n\t(No symbol) [0x00C54F6C]\n\t(No symbol) [0x00C511D8]\n\t(No symbol) [0x00C512BB]\n\t(No symbol) [0x00C44857]\n\tBaseThreadInitThunk [0x76E17D59+25]\n\tRtlInitializeExceptionChain [0x77E0B74B+107]\n\tRtlClearBits [0x77E0B6CF+191]\n",
     "output_type": "error",
     "traceback": [
      "\u001B[1;31m---------------------------------------------------------------------------\u001B[0m",
      "\u001B[1;31mNoSuchElementException\u001B[0m                    Traceback (most recent call last)",
      "Cell \u001B[1;32mIn[11], line 3\u001B[0m\n\u001B[0;32m      1\u001B[0m \u001B[38;5;66;03m# div id=txt2img_batch_count\u001B[39;00m\n\u001B[0;32m      2\u001B[0m \u001B[38;5;66;03m# 使用xpath定位\u001B[39;00m\n\u001B[1;32m----> 3\u001B[0m div \u001B[38;5;241m=\u001B[39m \u001B[43mdriver\u001B[49m\u001B[38;5;241;43m.\u001B[39;49m\u001B[43mfind_element_by_xpath\u001B[49m\u001B[43m(\u001B[49m\u001B[38;5;124;43m'\u001B[39;49m\u001B[38;5;124;43m//*[@id=\u001B[39;49m\u001B[38;5;124;43m\"\u001B[39;49m\u001B[38;5;124;43mtxt2img_batch_count\u001B[39;49m\u001B[38;5;124;43m\"\u001B[39;49m\u001B[38;5;124;43m]\u001B[39;49m\u001B[38;5;124;43m'\u001B[39;49m\u001B[43m)\u001B[49m\n\u001B[0;32m      5\u001B[0m \u001B[38;5;66;03m# input type=number class=gr-box gr-input gr-text-input text-center h-6\u001B[39;00m\n\u001B[0;32m      6\u001B[0m \u001B[38;5;66;03m# 获取div下的input标签\u001B[39;00m\n\u001B[0;32m      7\u001B[0m \u001B[38;5;28minput\u001B[39m \u001B[38;5;241m=\u001B[39m div\u001B[38;5;241m.\u001B[39mfind_element_by_tag_name(\u001B[38;5;124m'\u001B[39m\u001B[38;5;124minput\u001B[39m\u001B[38;5;124m'\u001B[39m)\n",
      "File \u001B[1;32mD:\\Programs\\Python\\Python311\\Lib\\site-packages\\selenium\\webdriver\\remote\\webdriver.py:526\u001B[0m, in \u001B[0;36mWebDriver.find_element_by_xpath\u001B[1;34m(self, xpath)\u001B[0m\n\u001B[0;32m    504\u001B[0m \u001B[38;5;250m\u001B[39m\u001B[38;5;124;03m\"\"\"\u001B[39;00m\n\u001B[0;32m    505\u001B[0m \u001B[38;5;124;03mFinds an element by xpath.\u001B[39;00m\n\u001B[0;32m    506\u001B[0m \n\u001B[1;32m   (...)\u001B[0m\n\u001B[0;32m    519\u001B[0m \u001B[38;5;124;03m        element = driver.find_element_by_xpath('//div/td[1]')\u001B[39;00m\n\u001B[0;32m    520\u001B[0m \u001B[38;5;124;03m\"\"\"\u001B[39;00m\n\u001B[0;32m    521\u001B[0m warnings\u001B[38;5;241m.\u001B[39mwarn(\n\u001B[0;32m    522\u001B[0m     \u001B[38;5;124m\"\u001B[39m\u001B[38;5;124mfind_element_by_xpath is deprecated. Please use find_element(by=By.XPATH, value=xpath) instead\u001B[39m\u001B[38;5;124m\"\u001B[39m,\n\u001B[0;32m    523\u001B[0m     \u001B[38;5;167;01mDeprecationWarning\u001B[39;00m,\n\u001B[0;32m    524\u001B[0m     stacklevel\u001B[38;5;241m=\u001B[39m\u001B[38;5;241m2\u001B[39m,\n\u001B[0;32m    525\u001B[0m )\n\u001B[1;32m--> 526\u001B[0m \u001B[38;5;28;01mreturn\u001B[39;00m \u001B[38;5;28;43mself\u001B[39;49m\u001B[38;5;241;43m.\u001B[39;49m\u001B[43mfind_element\u001B[49m\u001B[43m(\u001B[49m\u001B[43mby\u001B[49m\u001B[38;5;241;43m=\u001B[39;49m\u001B[43mBy\u001B[49m\u001B[38;5;241;43m.\u001B[39;49m\u001B[43mXPATH\u001B[49m\u001B[43m,\u001B[49m\u001B[43m \u001B[49m\u001B[43mvalue\u001B[49m\u001B[38;5;241;43m=\u001B[39;49m\u001B[43mxpath\u001B[49m\u001B[43m)\u001B[49m\n",
      "File \u001B[1;32mD:\\Programs\\Python\\Python311\\Lib\\site-packages\\selenium\\webdriver\\remote\\webdriver.py:1251\u001B[0m, in \u001B[0;36mWebDriver.find_element\u001B[1;34m(self, by, value)\u001B[0m\n\u001B[0;32m   1248\u001B[0m     by \u001B[38;5;241m=\u001B[39m By\u001B[38;5;241m.\u001B[39mCSS_SELECTOR\n\u001B[0;32m   1249\u001B[0m     value \u001B[38;5;241m=\u001B[39m \u001B[38;5;124m'\u001B[39m\u001B[38;5;124m[name=\u001B[39m\u001B[38;5;124m\"\u001B[39m\u001B[38;5;132;01m%s\u001B[39;00m\u001B[38;5;124m\"\u001B[39m\u001B[38;5;124m]\u001B[39m\u001B[38;5;124m'\u001B[39m \u001B[38;5;241m%\u001B[39m value\n\u001B[1;32m-> 1251\u001B[0m \u001B[38;5;28;01mreturn\u001B[39;00m \u001B[38;5;28;43mself\u001B[39;49m\u001B[38;5;241;43m.\u001B[39;49m\u001B[43mexecute\u001B[49m\u001B[43m(\u001B[49m\u001B[43mCommand\u001B[49m\u001B[38;5;241;43m.\u001B[39;49m\u001B[43mFIND_ELEMENT\u001B[49m\u001B[43m,\u001B[49m\u001B[43m \u001B[49m\u001B[43m{\u001B[49m\n\u001B[0;32m   1252\u001B[0m \u001B[43m    \u001B[49m\u001B[38;5;124;43m'\u001B[39;49m\u001B[38;5;124;43musing\u001B[39;49m\u001B[38;5;124;43m'\u001B[39;49m\u001B[43m:\u001B[49m\u001B[43m \u001B[49m\u001B[43mby\u001B[49m\u001B[43m,\u001B[49m\n\u001B[0;32m   1253\u001B[0m \u001B[43m    \u001B[49m\u001B[38;5;124;43m'\u001B[39;49m\u001B[38;5;124;43mvalue\u001B[39;49m\u001B[38;5;124;43m'\u001B[39;49m\u001B[43m:\u001B[49m\u001B[43m \u001B[49m\u001B[43mvalue\u001B[49m\u001B[43m}\u001B[49m\u001B[43m)\u001B[49m[\u001B[38;5;124m'\u001B[39m\u001B[38;5;124mvalue\u001B[39m\u001B[38;5;124m'\u001B[39m]\n",
      "File \u001B[1;32mD:\\Programs\\Python\\Python311\\Lib\\site-packages\\selenium\\webdriver\\remote\\webdriver.py:430\u001B[0m, in \u001B[0;36mWebDriver.execute\u001B[1;34m(self, driver_command, params)\u001B[0m\n\u001B[0;32m    428\u001B[0m response \u001B[38;5;241m=\u001B[39m \u001B[38;5;28mself\u001B[39m\u001B[38;5;241m.\u001B[39mcommand_executor\u001B[38;5;241m.\u001B[39mexecute(driver_command, params)\n\u001B[0;32m    429\u001B[0m \u001B[38;5;28;01mif\u001B[39;00m response:\n\u001B[1;32m--> 430\u001B[0m     \u001B[38;5;28;43mself\u001B[39;49m\u001B[38;5;241;43m.\u001B[39;49m\u001B[43merror_handler\u001B[49m\u001B[38;5;241;43m.\u001B[39;49m\u001B[43mcheck_response\u001B[49m\u001B[43m(\u001B[49m\u001B[43mresponse\u001B[49m\u001B[43m)\u001B[49m\n\u001B[0;32m    431\u001B[0m     response[\u001B[38;5;124m'\u001B[39m\u001B[38;5;124mvalue\u001B[39m\u001B[38;5;124m'\u001B[39m] \u001B[38;5;241m=\u001B[39m \u001B[38;5;28mself\u001B[39m\u001B[38;5;241m.\u001B[39m_unwrap_value(\n\u001B[0;32m    432\u001B[0m         response\u001B[38;5;241m.\u001B[39mget(\u001B[38;5;124m'\u001B[39m\u001B[38;5;124mvalue\u001B[39m\u001B[38;5;124m'\u001B[39m, \u001B[38;5;28;01mNone\u001B[39;00m))\n\u001B[0;32m    433\u001B[0m     \u001B[38;5;28;01mreturn\u001B[39;00m response\n",
      "File \u001B[1;32mD:\\Programs\\Python\\Python311\\Lib\\site-packages\\selenium\\webdriver\\remote\\errorhandler.py:247\u001B[0m, in \u001B[0;36mErrorHandler.check_response\u001B[1;34m(self, response)\u001B[0m\n\u001B[0;32m    245\u001B[0m         alert_text \u001B[38;5;241m=\u001B[39m value[\u001B[38;5;124m'\u001B[39m\u001B[38;5;124malert\u001B[39m\u001B[38;5;124m'\u001B[39m]\u001B[38;5;241m.\u001B[39mget(\u001B[38;5;124m'\u001B[39m\u001B[38;5;124mtext\u001B[39m\u001B[38;5;124m'\u001B[39m)\n\u001B[0;32m    246\u001B[0m     \u001B[38;5;28;01mraise\u001B[39;00m exception_class(message, screen, stacktrace, alert_text)  \u001B[38;5;66;03m# type: ignore[call-arg]  # mypy is not smart enough here\u001B[39;00m\n\u001B[1;32m--> 247\u001B[0m \u001B[38;5;28;01mraise\u001B[39;00m exception_class(message, screen, stacktrace)\n",
      "\u001B[1;31mNoSuchElementException\u001B[0m: Message: no such element: Unable to locate element: {\"method\":\"xpath\",\"selector\":\"//*[@id=\"txt2img_batch_count\"]\"}\n  (Session info: chrome=113.0.5672.127)\nStacktrace:\nBacktrace:\n\tGetHandleVerifier [0x00CB8893+48451]\n\t(No symbol) [0x00C4B8A1]\n\t(No symbol) [0x00B55058]\n\t(No symbol) [0x00B80467]\n\t(No symbol) [0x00B8069B]\n\t(No symbol) [0x00BADD92]\n\t(No symbol) [0x00B9A304]\n\t(No symbol) [0x00BAC482]\n\t(No symbol) [0x00B9A0B6]\n\t(No symbol) [0x00B77E08]\n\t(No symbol) [0x00B78F2D]\n\tGetHandleVerifier [0x00F18E3A+2540266]\n\tGetHandleVerifier [0x00F58959+2801161]\n\tGetHandleVerifier [0x00F5295C+2776588]\n\tGetHandleVerifier [0x00D42280+612144]\n\t(No symbol) [0x00C54F6C]\n\t(No symbol) [0x00C511D8]\n\t(No symbol) [0x00C512BB]\n\t(No symbol) [0x00C44857]\n\tBaseThreadInitThunk [0x76E17D59+25]\n\tRtlInitializeExceptionChain [0x77E0B74B+107]\n\tRtlClearBits [0x77E0B6CF+191]\n"
     ]
    }
   ],
   "source": [
    "# div id=txt2img_batch_count\n",
    "# 使用xpath定位\n",
    "\n",
    "div = driver.find_element_by_id('txt2img_batch_count')\n",
    "# input type=number class=gr-box gr-input gr-text-input text-center h-6\n",
    "# 获取div下的input标签\n",
    "input = div.find_element_by_tag_name('input')\n",
    "# 修改输入框的值为10\n",
    "input.send_keys('10')\n",
    "# div id=txt2img_batch_size\n",
    "div = driver.find_element_by_id('txt2img_batch_size')\n",
    "# input type=number class=gr-box gr-input gr-text-input text-center h-6\n",
    "# 获取div下的input标签\n",
    "input = div.find_element_by_tag_name('input')\n",
    "# 修改输入框的值为3\n",
    "input.send_keys('3')\n",
    "\n"
   ],
   "metadata": {
    "collapsed": false,
    "ExecuteTime": {
     "end_time": "2023-05-21T03:19:32.488192Z",
     "start_time": "2023-05-21T03:19:32.446509700Z"
    }
   }
  },
  {
   "cell_type": "code",
   "execution_count": null,
   "outputs": [],
   "source": [],
   "metadata": {
    "collapsed": false
   }
  }
 ],
 "metadata": {
  "kernelspec": {
   "display_name": "Python 3",
   "language": "python",
   "name": "python3"
  },
  "language_info": {
   "codemirror_mode": {
    "name": "ipython",
    "version": 2
   },
   "file_extension": ".py",
   "mimetype": "text/x-python",
   "name": "python",
   "nbconvert_exporter": "python",
   "pygments_lexer": "ipython2",
   "version": "2.7.6"
  }
 },
 "nbformat": 4,
 "nbformat_minor": 0
}
