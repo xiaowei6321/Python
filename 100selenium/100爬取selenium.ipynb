{
 "cells": [
  {
   "cell_type": "code",
   "execution_count": null,
   "id": "initial_id",
   "metadata": {
    "collapsed": true
   },
   "outputs": [],
   "source": []
  },
  {
   "cell_type": "code",
   "execution_count": 1,
   "outputs": [],
   "source": [
    "from selenium import webdriver\n",
    "\n",
    "\n",
    "driver = webdriver.Chrome()\n",
    "url=\"https://civitai.com/posts\"\n",
    "\n",
    "driver.get(url)\n",
    "\n",
    "\n",
    "\n"
   ],
   "metadata": {
    "collapsed": false,
    "ExecuteTime": {
     "end_time": "2023-08-10T18:52:21.111772Z",
     "start_time": "2023-08-10T18:52:04.934847700Z"
    }
   },
   "id": "c1d772bb4ddefce9"
  },
  {
   "cell_type": "code",
   "execution_count": 3,
   "outputs": [
    {
     "name": "stdout",
     "output_type": "stream",
     "text": [
      "下载成功\n",
      "下载成功\n",
      "下载成功\n",
      "下载成功\n",
      "下载成功\n",
      "下载成功\n",
      "下载成功\n",
      "下载成功\n",
      "下载成功\n",
      "下载成功\n",
      "下载成功\n",
      "下载成功\n",
      "下载成功\n",
      "下载成功\n",
      "下载成功\n",
      "下载成功\n",
      "下载成功\n",
      "下载成功\n",
      "下载成功\n",
      "下载成功\n",
      "下载成功\n",
      "下载成功\n",
      "下载成功\n",
      "下载成功\n",
      "下载成功\n",
      "下载成功\n",
      "下载成功\n",
      "下载成功\n",
      "下载成功\n",
      "下载成功\n",
      "下载成功\n",
      "下载成功\n",
      "下载成功\n",
      "下载成功\n",
      "下载成功\n",
      "下载成功\n",
      "下载成功\n",
      "下载成功\n",
      "下载成功\n",
      "下载成功\n",
      "下载成功\n",
      "下载成功\n",
      "下载成功\n",
      "下载成功\n",
      "下载成功\n",
      "下载成功\n",
      "下载成功\n",
      "下载成功\n",
      "下载成功\n",
      "下载成功\n",
      "下载成功\n",
      "下载成功\n",
      "下载成功\n",
      "下载成功\n",
      "下载成功\n",
      "下载成功\n",
      "下载成功\n",
      "下载成功\n",
      "下载成功\n",
      "下载成功\n",
      "下载成功\n",
      "下载成功\n",
      "下载成功\n",
      "下载成功\n",
      "下载成功\n",
      "下载成功\n",
      "下载成功\n",
      "下载成功\n",
      "下载成功\n",
      "下载成功\n",
      "下载成功\n",
      "下载成功\n",
      "下载成功\n",
      "下载成功\n",
      "下载成功\n"
     ]
    }
   ],
   "source": [
    "from selenium.webdriver.common.by import By\n",
    "import requests\n",
    "\n",
    "# // img class=mantine-180xhmt \n",
    "# js下载图片\n",
    "\n",
    "# 获取所有图片\n",
    "imgs = driver.find_elements(By.TAG_NAME,\"img\")\n",
    "\n",
    "# 遍历图片\n",
    "for img in imgs:\n",
    "    # 如果图片没有src属性，跳过\n",
    "    if not img.get_attribute(\"src\"):\n",
    "        continue\n",
    "        \n",
    "    # 获取图片地址\n",
    "    img_url = img.get_attribute(\"src\")\n",
    "    # 下载图片\n",
    "    \n",
    "    res = requests.get(img_url)\n",
    "    # 保存图片\n",
    "    with open(\"imgs/\"+img_url.split(\"/\")[-1],\"wb\") as f:\n",
    "        f.write(res.content)\n",
    "        print(\"下载成功\")"
   ],
   "metadata": {
    "collapsed": false,
    "ExecuteTime": {
     "end_time": "2023-08-10T18:55:56.208990200Z",
     "start_time": "2023-08-10T18:54:56.706758700Z"
    }
   },
   "id": "f62851734d29b914"
  },
  {
   "cell_type": "markdown",
   "source": [],
   "metadata": {
    "collapsed": false
   },
   "id": "677bc62878d4ca86"
  },
  {
   "cell_type": "markdown",
   "source": [],
   "metadata": {
    "collapsed": false
   },
   "id": "7d6a248f07609a98"
  },
  {
   "cell_type": "markdown",
   "source": [],
   "metadata": {
    "collapsed": false
   },
   "id": "3613a313eb102a45"
  },
  {
   "cell_type": "code",
   "execution_count": 12,
   "outputs": [
    {
     "name": "stdout",
     "output_type": "stream",
     "text": [
      "Admin.NET\n",
      "有可能是.NET最好用的通用权限开发框架\n",
      "Admin.NET\n",
      "用户名登录\n",
      "手机号登录\n",
      "登 录\n",
      "* 温馨提示：建议使用谷歌、Microsoft Edge，版本 79.0.1072.62 及以上浏览器，360浏览器请使用极速模式\n"
     ]
    }
   ],
   "source": [
    "# 引入By\n",
    "from selenium.webdriver.common.by import By\n",
    "# 获取body所有文本\n",
    "body =driver.find_element(By.TAG_NAME,\"body\")\n",
    "\n",
    "print(body.text)\n",
    "\n",
    "import pyperclip\n",
    "pyperclip.copy(body.text)\n",
    "\n"
   ],
   "metadata": {
    "collapsed": false,
    "ExecuteTime": {
     "end_time": "2023-08-10T11:04:36.078454900Z",
     "start_time": "2023-08-10T11:04:35.988082900Z"
    }
   },
   "id": "3c9aaeaebc1d18ba"
  },
  {
   "cell_type": "markdown",
   "source": [
    "Admin.NET\n",
    "有可能是.NET最好用的通用权限开发框架\n",
    "Admin.NET\n",
    "用户名登录\n",
    "手机号登录\n",
    "登 录\n",
    "* 温馨提示：建议使用谷歌、Microsoft Edge，版本 79.0.1072.62 及以上浏览器，360浏览器请使用极速模式\n",
    "\n",
    "浏览器登录"
   ],
   "metadata": {
    "collapsed": false
   },
   "id": "ac6732a284b6fa42"
  },
  {
   "cell_type": "markdown",
   "source": [
    "登陆框架伪代码--------------------------------------------------------------------------------------------------------------------------------\n",
    "伪代码（Pseudocode）是一种用于描述算法的语言，它可以让你在不用担心具体语法的情况下，把你的思路和算法表达出来。下面是一个关于登录框架的基本伪代码：\n",
    "\n",
    "```\n",
    "初始化一个登录函数，该函数接受两个参数：用户名和密码\n",
    "\n",
    "开始函数：\n",
    "    如果 用户名和密码是空的：\n",
    "        显示错误信息 \"用户名和密码不能为空\"\n",
    "        返回\n",
    "\n",
    "    调用后端服务来验证用户名和密码\n",
    "\n",
    "    如果 验证成功：\n",
    "        更新用户的登录状态为已登录\n",
    "        显示欢迎信息\n",
    "    否则：\n",
    "        显示错误信息 \"用户名或密码错误\"\n",
    "\n",
    "结束函数\n",
    "```\n",
    "\n",
    "在实际编程中，登录框架的实现会涉及到更多的细节，比如用户输入的安全性检查（防止SQL注入等攻击）、密码的加密存储、错误处理等。并且，具体实现也会根据使用的编程语言、框架和库的不同而不同。\n",
    " \n"
   ],
   "metadata": {
    "collapsed": false
   },
   "id": "cf449aced6c75930"
  },
  {
   "cell_type": "markdown",
   "source": [
    "asp.net登录框架--------------------------------------------------------------------------------------------------------------------------------\n",
    "\n",
    " "
   ],
   "metadata": {
    "collapsed": false
   },
   "id": "db0f22fb9b1e2cb3"
  },
  {
   "cell_type": "code",
   "execution_count": null,
   "outputs": [],
   "source": [],
   "metadata": {
    "collapsed": false
   },
   "id": "e25be5fcd0eb0434"
  },
  {
   "cell_type": "code",
   "execution_count": null,
   "outputs": [],
   "source": [],
   "metadata": {
    "collapsed": false
   },
   "id": "9426733e298bb69f"
  }
 ],
 "metadata": {
  "kernelspec": {
   "display_name": "Python 3",
   "language": "python",
   "name": "python3"
  },
  "language_info": {
   "codemirror_mode": {
    "name": "ipython",
    "version": 2
   },
   "file_extension": ".py",
   "mimetype": "text/x-python",
   "name": "python",
   "nbconvert_exporter": "python",
   "pygments_lexer": "ipython2",
   "version": "2.7.6"
  }
 },
 "nbformat": 4,
 "nbformat_minor": 5
}
