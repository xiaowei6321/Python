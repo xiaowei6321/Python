{
 "cells": [
  {
   "cell_type": "code",
   "execution_count": null,
   "outputs": [],
   "source": [
    "#D:\\Program Files\\Tesseract-OCR"
   ],
   "metadata": {
    "collapsed": false
   }
  },
  {
   "cell_type": "code",
   "execution_count": null,
   "outputs": [],
   "source": [
    "from PIL import Image\n",
    "import pytesseract\n",
    "\n",
    "def ocr_from_image(image_path):\n",
    "    # 使用pytesseract对图像进行OCR识别\n",
    "    text = pytesseract.image_to_string(Image.open(image_path), lang='chi_sim')\n",
    "    return text\n",
    "\n",
    "# 使用函数\n",
    "text = ocr_from_image('example.png')\n",
    "\n",
    "# 将提取的文本写入到TXT文件\n",
    "with open('output.txt', 'w', encoding='utf-8') as txt_file:\n",
    "    txt_file.write(text)\n"
   ],
   "metadata": {
    "collapsed": false
   }
  },
  {
   "cell_type": "code",
   "execution_count": 12,
   "metadata": {
    "collapsed": true,
    "ExecuteTime": {
     "end_time": "2023-05-26T09:00:27.378176700Z",
     "start_time": "2023-05-26T09:00:27.158649100Z"
    }
   },
   "outputs": [],
   "source": [
    "from pdfminer.high_level import extract_text\n",
    "\n",
    "def pdf_to_txt(file_path):\n",
    "    text = extract_text(file_path)\n",
    "    return text\n",
    "\n",
    "# 使用函数\n",
    "text = pdf_to_txt('2017年计算机统考408考研真题.pdf')\n",
    "\n",
    "# 将提取的文本写入到TXT文件\n",
    "with open('output.txt', 'w', encoding='utf-8') as txt_file:\n",
    "    txt_file.write(text)\n"
   ]
  },
  {
   "cell_type": "code",
   "execution_count": 7,
   "outputs": [
    {
     "name": "stderr",
     "output_type": "stream",
     "text": [
      "D:\\Programs\\Python\\Python311\\Lib\\site-packages\\PyPDF2\\_cmap.py:142: PdfReadWarning: Advanced encoding /UniGB-UTF16-H not implemented yet\n",
      "  warnings.warn(\n"
     ]
    }
   ],
   "source": [
    "import PyPDF2\n",
    "\n",
    "def pdf_to_txt(file_path):\n",
    "    with open(file_path, 'rb') as file:\n",
    "        reader = PyPDF2.PdfReader(file)\n",
    "        text = ''\n",
    "        for page_num in range(len(reader.pages)):\n",
    "            page = reader.pages[page_num]\n",
    "            text += page.extract_text()\n",
    "\n",
    "        return text\n",
    "\n",
    "# 使用函数\n",
    "text = pdf_to_txt('2017年计算机统考408考研真题.pdf')\n",
    "\n",
    "# 将提取的文本写入到TXT文件\n",
    "with open('output.txt', 'w', encoding='utf-8') as txt_file:\n",
    "    txt_file.write(text)\n"
   ],
   "metadata": {
    "collapsed": false,
    "ExecuteTime": {
     "end_time": "2023-05-26T08:45:38.787318600Z",
     "start_time": "2023-05-26T08:45:38.644007700Z"
    }
   }
  },
  {
   "cell_type": "code",
   "execution_count": 8,
   "outputs": [],
   "source": [
    "from PyPDF2 import PdfReader\n",
    "\n",
    "reader = PdfReader(\"2017年计算机统考408考研真题.pdf\")\n",
    "number_of_pages = len(reader.pages)\n",
    "page = reader.pages[0]\n",
    "text = page.extract_text()"
   ],
   "metadata": {
    "collapsed": false,
    "ExecuteTime": {
     "end_time": "2023-05-26T08:52:48.226281500Z",
     "start_time": "2023-05-26T08:52:48.183356800Z"
    }
   }
  },
  {
   "cell_type": "code",
   "execution_count": 11,
   "outputs": [
    {
     "name": "stdout",
     "output_type": "stream",
     "text": [
      "13\n"
     ]
    }
   ],
   "source": [
    "print(number_of_pages)"
   ],
   "metadata": {
    "collapsed": false,
    "ExecuteTime": {
     "end_time": "2023-05-26T08:53:41.842132100Z",
     "start_time": "2023-05-26T08:53:41.821614200Z"
    }
   }
  },
  {
   "cell_type": "code",
   "execution_count": 9,
   "outputs": [],
   "source": [
    "for page_num in range(len(reader.pages)):\n",
    "    page = reader.pages[page_num]\n",
    "    text += page.extract_text()\n"
   ],
   "metadata": {
    "collapsed": false,
    "ExecuteTime": {
     "end_time": "2023-05-26T08:53:08.262156400Z",
     "start_time": "2023-05-26T08:53:08.125261400Z"
    }
   }
  },
  {
   "cell_type": "code",
   "execution_count": 10,
   "outputs": [
    {
     "name": "stdout",
     "output_type": "stream",
     "text": [
      "\u00001\u00001\u00002\u00003\u00004\u00005\u00006\u00007\u00008\u00009\u00001\u00000\u00001\u00001\u00001\u00002( 2) ~ m 1 ~ flit -0-( push eb p ) B,j-, ~T IT itt:fl' 1ill:hl1r:t!ic i¥J :ij ~ hI' W;). ~ \n",
      "1)] riiJ I*J 1f. >P i3\"J]jJ: §I * fQ ]jJ: * , Ji1U f:? ?t jjU 1jj \"oj 't: 11'1 ~ I=l 8<J ~ J1 \n",
      "1-*JN (~Ji} M 0 :fBi:!)? \n",
      "( 3) M 8<J II 0 -* m rp ~ 3Y 1IilJ :1J :c~ 0 74' :itt *111 P 1£ ifoJ m fl z flU Jill :ij \n",
      "scanf ( ) ~ ~ n 8<J 'ffi , Ji1iJ :fE fA. 1\"1' scanf ( ) B':J:ij ~ >p , :itt iflil P 8<J ~ \n",
      "0~J Hl1ifJ~1t? CPU )fF~f:?l1t A I*J tJ< ~ '! \n",
      "46. (8 ?t) ~:itt;W >p If 3 l' if J;t fA. h i3\"J ~ ~ thread 1 ,thread2 fIl thread3 , \n",
      "Jt fJJ it {jIb :Q1l'T Err 7J' 0 \n",
      "I I ~J& fjg ~t, jt] * ill. 5i' )(. lh rea.d 1 thread3 \n",
      "typedef struct I I \n",
      "I cnum w; cnum w; \n",
      "float a; w = add ( x, y) ; \\V.a = 1; \n",
      "float b; ..... , w.b=l; \n",
      "I cnum j I z = add ( Z, IV) ; \n",
      "cnum x, y, z; II ~)<.j1f:lt y = add ( y, w) ; \n",
      "thread2 •••• 0. \n",
      "j lit;n ~ l' ~ 1& Z jf~ I I \n",
      "cnum add ( cnum p, cnum q) cnum w; \n",
      "I w =add( y, z) ; \n",
      "cnum s; .... 0. \n",
      "s.a= p.a+q.a; I \n",
      "s.b= p.b+q.b; \n",
      "Teturn s; \n",
      "I \n",
      "'rt!fiJ~;bIl£'~E\"J{ fj~ hlfll P, V (jjjz wait( ) ,signal ( ») 'l*fF ,~;:j<:fif1i{~~ \n",
      "~~ fM..Ii Jf: -Vi lilJ Ilffi JIlL 55£ 1m , ;If .fi:li)c ~ JJt 1& Jf: J;t :/,A 1\"1' 0 \n",
      "47. (9 ?t) \"fI z:. JJ JJ ±'.g * m Fo ~ N ~~i rh-l)( ( G B N ) :J1 q=r t1' ~ B':J XJ rOJ iJ& :Wi \n",
      "1~~ , H xJ:1J ~i:! ~~ * J'IH~ #HJffrb\\ , ~Ji if:!f;J j;) 1000 B 0 Sx, y fO Rx, y \n",
      "?t jj Ij ~ Ij, \"fin' fO G :1J J;t * B':J iJ& ii ~Ji , ;}t ~p : x fi!: J;t :t& ff ~ ; Y Jf: IiftJ iA \n",
      "ff ~ *-/J\\ ;ffi-~ 1~ t& X1 H B':J 'T -~Ji F¥ % ) d& tJHyi(1':l J;t ~ rf-9-fll1i~ \u00001\u00003\n"
     ]
    }
   ],
   "source": [
    "print(text)"
   ],
   "metadata": {
    "collapsed": false,
    "ExecuteTime": {
     "end_time": "2023-05-26T08:53:18.140318500Z",
     "start_time": "2023-05-26T08:53:18.137323100Z"
    }
   }
  },
  {
   "cell_type": "code",
   "execution_count": null,
   "outputs": [],
   "source": [],
   "metadata": {
    "collapsed": false
   }
  }
 ],
 "metadata": {
  "kernelspec": {
   "display_name": "Python 3",
   "language": "python",
   "name": "python3"
  },
  "language_info": {
   "codemirror_mode": {
    "name": "ipython",
    "version": 2
   },
   "file_extension": ".py",
   "mimetype": "text/x-python",
   "name": "python",
   "nbconvert_exporter": "python",
   "pygments_lexer": "ipython2",
   "version": "2.7.6"
  }
 },
 "nbformat": 4,
 "nbformat_minor": 0
}
