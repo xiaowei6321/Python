{
 "cells": [
  {
   "cell_type": "code",
   "execution_count": 1,
   "metadata": {
    "collapsed": true,
    "ExecuteTime": {
     "end_time": "2023-05-25T03:04:38.024686200Z",
     "start_time": "2023-05-25T03:04:27.731725900Z"
    }
   },
   "outputs": [
    {
     "name": "stderr",
     "output_type": "stream",
     "text": [
      "C:\\Users\\Administrator\\AppData\\Local\\Temp\\ipykernel_10580\\3719873337.py:4: DeprecationWarning: executable_path has been deprecated, please pass in a Service object\n",
      "  driver = webdriver.Chrome('D:\\Downloads\\chromedriver_win32\\chromedriver.exe')\n"
     ]
    }
   ],
   "source": [
    "from selenium import webdriver\n",
    "from selenium.webdriver.common.keys import Keys\n",
    "# 创建一个Chrome浏览器实例\n",
    "driver = webdriver.Chrome('D:\\Downloads\\chromedriver_win32\\chromedriver.exe')\n",
    "# 打开企查查网页\n",
    "\n",
    "driver.get('https://www.bilibili.com/video/BV19E411D78Q/?spm_id_from=333.337.search-card.all.click&vd_source=9c2ec001f0611ac68de268209e5f4441')"
   ]
  },
  {
   "cell_type": "code",
   "execution_count": 2,
   "outputs": [
    {
     "name": "stderr",
     "output_type": "stream",
     "text": [
      "C:\\Users\\Administrator\\AppData\\Local\\Temp\\ipykernel_10580\\3477399386.py:3: DeprecationWarning: find_element_by_class_name is deprecated. Please use find_element(by=By.CLASS_NAME, value=name) instead\n",
      "  div = driver.find_element_by_class_name('cur-list')\n",
      "C:\\Users\\Administrator\\AppData\\Local\\Temp\\ipykernel_10580\\3477399386.py:5: DeprecationWarning: find_element_by_class_name is deprecated. Please use find_element(by=By.CLASS_NAME, value=name) instead\n",
      "  ul = div.find_element_by_class_name('list-box')\n",
      "C:\\Users\\Administrator\\AppData\\Local\\Temp\\ipykernel_10580\\3477399386.py:7: DeprecationWarning: find_elements_by_tag_name is deprecated. Please use find_elements(by=By.TAG_NAME, value=name) instead\n",
      "  li_list = ul.find_elements_by_tag_name('li')\n",
      "C:\\Users\\Administrator\\AppData\\Local\\Temp\\ipykernel_10580\\3477399386.py:10: DeprecationWarning: find_element_by_tag_name is deprecated. Please use find_element(by=By.TAG_NAME, value=name) instead\n",
      "  text=li.find_element_by_tag_name('a').get_attribute('title')\n"
     ]
    },
    {
     "name": "stdout",
     "output_type": "stream",
     "text": [
      "1.0 认识计算机网络\n",
      "1.1_1 概念及功能\n",
      "1.1_2 组成与分类\n",
      "1.1.3 标准化工作及相关组织（408大纲已删）\n",
      "1.1-4性能指标(1)\n",
      "1.1_5 性能指标(2)\n",
      "1.2_1 分层结构、协议、接口、服务\n",
      "1.2.2 OSI参考模型（1）\n",
      "1.2.3 OSI参考模型（2）\n",
      "1.2_4 TCPIP参考模型\n",
      "1.3 第一章总结\n",
      "2.1_1 物理层基本概念\n",
      "2.1_2 数据通信基础知识（1）\n",
      "2.1_3 数据通信基础知识（2）\n",
      "2.1_4 奈氏准则和香农定理\n",
      "2.1.5 编码与调制（1）\n",
      "2.1.6 编码与调制（2）\n",
      "2.1_7 数据交换方式\n",
      "2.2 物理层传输介质\n",
      "2.3 物理层设备\n",
      "第二章总结\n",
      "3.1数据链路层功能概述\n",
      "3.2 封装成帧和透明传输\n",
      "3.3_1差错控制（检错编码）\n",
      "3.3-2 差错控制（纠错编码）\n",
      "3.4.1 流量控制与可靠传输机制\n",
      "3.4_2 停止-等待协议\n",
      "3.4_3 后退N帧协议(GBN)\n",
      "3.4.4 选择重传协议（SR）\n",
      "3.5_1 信道划分介质访问控制\n",
      "3.5_2 ALOHA协议\n",
      "3.5_3 CSMA协议\n",
      "3.5.4 CSMA-CD协议\n",
      "3.5.5 CSMA-CA协议\n",
      "3.5.6 轮询访问介质访问控制\n",
      "3.6.1 局域网基本概念和体系结构\n",
      "3.6.2 以太网\n",
      "3.6.3 无线局域网\n",
      "3.6-4 VLAN基本概念与基本原理\n",
      "3.7-1广域网及相关协议\n",
      "3.8-1 链路层设备（最新）\n",
      "第三章总结\n",
      "4.1-1 网络层功能概述\n",
      "4.1-2-SDN基本概念（补充考点）\n",
      "4.2.1 路由算法与路由协议概述\n",
      "4.3-1 IP数据报格式\n",
      "4.3.2 IP数据报分片\n",
      "4.3-3 IPv4地址\n",
      "4.3.4 网络地址转换NAT\n",
      "4.3.5 子网划分和子网掩码\n",
      "4.3-6 无分类编址CIDR\n",
      "4.3.7 ARP协议\n",
      "4.3.8 DHCP协议\n",
      "4.3.9 ICMP协议\n",
      "4.4 IPv6\n",
      "4.5.1 RIP协议与距离向量算法\n",
      "4.5.2 OSPF协议与链路状态算法\n",
      "4.5-3 BGP协议\n",
      "4.6 IP组播\n",
      "4.8 网络层设备\n",
      "第四章总结\n",
      "5.1-1 传输层概述\n",
      "5.2 UDP协议\n",
      "5.3.1 TCP协议特点和TCP报文段格式\n",
      "5.3.2 TCP连接管理\n",
      "5.3.3 TCP可靠传输\n",
      "5.3.4 TCP流量控制\n",
      "5.3.5 TCP拥塞控制\n",
      "5.4 传输层总结\n",
      "6.1-1 网络应用模型\n",
      "6.2 DNS系统\n",
      "6.3 文件传输协议FTP\n",
      "6.4-1 电子邮件\n",
      "6.5 万维网和HTTP协议\n",
      "6.6 第六章总结\n"
     ]
    }
   ],
   "source": [
    "# 获取class=cur-list的div下的class=list-box的ul下的所有li的a标签中的文本\n",
    "# 获取class=cur-list的div\n",
    "div = driver.find_element_by_class_name('cur-list')\n",
    "# 获取class=list-box的ul\n",
    "ul = div.find_element_by_class_name('list-box')\n",
    "# 获取所有li\n",
    "li_list = ul.find_elements_by_tag_name('li')\n",
    "# 获取所有a标签中的title属性 保存到文件中\n",
    "for li in li_list:\n",
    "    text=li.find_element_by_tag_name('a').get_attribute('title')\n",
    "    # 去除第一个中文单词前的文本 类似3.1_11_\n",
    "\n",
    "    print(text)\n",
    "\n",
    "    # 保存到文件中\n",
    "    with open('计算机网络.txt','a',encoding='utf-8') as f:\n",
    "        f.write(text+'\\n')\n",
    "\n"
   ],
   "metadata": {
    "collapsed": false,
    "ExecuteTime": {
     "end_time": "2023-05-25T03:04:39.070415700Z",
     "start_time": "2023-05-25T03:04:38.025692800Z"
    }
   }
  },
  {
   "cell_type": "code",
   "execution_count": 2,
   "outputs": [],
   "source": [],
   "metadata": {
    "collapsed": false,
    "ExecuteTime": {
     "end_time": "2023-05-25T03:04:39.072829700Z",
     "start_time": "2023-05-25T03:04:39.071224700Z"
    }
   }
  }
 ],
 "metadata": {
  "kernelspec": {
   "display_name": "Python 3",
   "language": "python",
   "name": "python3"
  },
  "language_info": {
   "codemirror_mode": {
    "name": "ipython",
    "version": 2
   },
   "file_extension": ".py",
   "mimetype": "text/x-python",
   "name": "python",
   "nbconvert_exporter": "python",
   "pygments_lexer": "ipython2",
   "version": "2.7.6"
  }
 },
 "nbformat": 4,
 "nbformat_minor": 0
}
