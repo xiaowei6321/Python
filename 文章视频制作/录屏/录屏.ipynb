{
 "cells": [
  {
   "cell_type": "code",
   "execution_count": 3,
   "metadata": {
    "collapsed": true,
    "ExecuteTime": {
     "end_time": "2023-05-24T08:52:25.309386700Z",
     "start_time": "2023-05-24T08:52:25.306913500Z"
    }
   },
   "outputs": [],
   "source": [
    "import pyautogui\n",
    "import cv2\n",
    "import numpy as np\n",
    "\n"
   ]
  },
  {
   "cell_type": "code",
   "execution_count": 2,
   "outputs": [
    {
     "ename": "TypeError",
     "evalue": "'module' object is not callable",
     "output_type": "error",
     "traceback": [
      "\u001B[1;31m---------------------------------------------------------------------------\u001B[0m",
      "\u001B[1;31mTypeError\u001B[0m                                 Traceback (most recent call last)",
      "Cell \u001B[1;32mIn[2], line 11\u001B[0m\n\u001B[0;32m      8\u001B[0m video_writer \u001B[38;5;241m=\u001B[39m cv2\u001B[38;5;241m.\u001B[39mVideoWriter(output_file, fourcc, \u001B[38;5;241m20.0\u001B[39m, (screen_width, screen_height))\n\u001B[0;32m     10\u001B[0m \u001B[38;5;66;03m# 开始录制\u001B[39;00m\n\u001B[1;32m---> 11\u001B[0m start_time \u001B[38;5;241m=\u001B[39m \u001B[43mpyautogui\u001B[49m\u001B[38;5;241;43m.\u001B[39;49m\u001B[43mtime\u001B[49m\u001B[43m(\u001B[49m\u001B[43m)\u001B[49m\n\u001B[0;32m     12\u001B[0m end_time \u001B[38;5;241m=\u001B[39m start_time \u001B[38;5;241m+\u001B[39m duration\n\u001B[0;32m     14\u001B[0m \u001B[38;5;28;01mwhile\u001B[39;00m pyautogui\u001B[38;5;241m.\u001B[39mtime() \u001B[38;5;241m<\u001B[39m end_time:\n\u001B[0;32m     15\u001B[0m     \u001B[38;5;66;03m# 获取屏幕截图\u001B[39;00m\n",
      "\u001B[1;31mTypeError\u001B[0m: 'module' object is not callable"
     ]
    }
   ],
   "source": [
    "# 设置屏幕分辨率和录制时长\n",
    "screen_width, screen_height = pyautogui.size()\n",
    "duration = 10  # 录制时长（秒）\n",
    "\n",
    "# 创建视频编码器\n",
    "fourcc = cv2.VideoWriter_fourcc(*\"XVID\")\n",
    "output_file = \"screen_record.avi\"\n",
    "video_writer = cv2.VideoWriter(output_file, fourcc, 20.0, (screen_width, screen_height))\n",
    "\n",
    "# 开始录制\n",
    "start_time = pyautogui.time()\n",
    "end_time = start_time + duration\n",
    "\n",
    "while pyautogui.time() < end_time:\n",
    "    # 获取屏幕截图\n",
    "    screenshot = pyautogui.screenshot()\n",
    "    frame = np.array(screenshot)\n",
    "    frame = cv2.cvtColor(frame, cv2.COLOR_RGB2BGR)\n",
    "\n",
    "    # 写入视频文件\n",
    "    video_writer.write(frame)\n",
    "\n",
    "# 结束录制\n",
    "video_writer.release()\n"
   ],
   "metadata": {
    "collapsed": false,
    "ExecuteTime": {
     "end_time": "2023-05-24T08:51:58.844257700Z",
     "start_time": "2023-05-24T08:51:58.552090Z"
    }
   }
  },
  {
   "cell_type": "markdown",
   "source": [],
   "metadata": {
    "collapsed": false
   }
  },
  {
   "cell_type": "code",
   "execution_count": null,
   "outputs": [],
   "source": [
    "def dfs(v:)\n",
    "    # 全局"
   ],
   "metadata": {
    "collapsed": false
   }
  }
 ],
 "metadata": {
  "kernelspec": {
   "display_name": "Python 3",
   "language": "python",
   "name": "python3"
  },
  "language_info": {
   "codemirror_mode": {
    "name": "ipython",
    "version": 2
   },
   "file_extension": ".py",
   "mimetype": "text/x-python",
   "name": "python",
   "nbconvert_exporter": "python",
   "pygments_lexer": "ipython2",
   "version": "2.7.6"
  }
 },
 "nbformat": 4,
 "nbformat_minor": 0
}
