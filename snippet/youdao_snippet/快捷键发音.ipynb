{
 "cells": [
  {
   "cell_type": "code",
   "execution_count": null,
   "metadata": {
    "collapsed": true,
    "is_executing": true
   },
   "outputs": [],
   "source": [
    "import pyautogui\n",
    "import keyboard\n"
   ]
  },
  {
   "cell_type": "markdown",
   "source": [],
   "metadata": {
    "collapsed": false
   }
  },
  {
   "cell_type": "code",
   "execution_count": 13,
   "outputs": [],
   "source": [
    "# 识别发音.png\n",
    "def find_pronunciation():\n",
    "    pronunciation = pyautogui.locateOnScreen('pronunciation.png')\n",
    "\n",
    "    # 移动到发音.png的中心位置\n",
    "    pyautogui.moveTo(pronunciation[0] + pronunciation[2] / 2, pronunciation[1] + pronunciation[3] / 2)\n",
    "\n",
    "\n"
   ],
   "metadata": {
    "collapsed": false,
    "ExecuteTime": {
     "end_time": "2023-06-06T11:15:16.949513900Z",
     "start_time": "2023-06-06T11:15:16.945983800Z"
    }
   }
  },
  {
   "cell_type": "code",
   "execution_count": 14,
   "outputs": [],
   "source": [
    "# 识别查询\n",
    "def find_search():\n",
    "    search = pyautogui.locateOnScreen('search.png')\n",
    "\n",
    "    # 移动到查询.png的中心位置\n",
    "    pyautogui.moveTo(search[0] + search[2] / 2, search[1] + search[3] / 2)\n"
   ],
   "metadata": {
    "collapsed": false,
    "ExecuteTime": {
     "end_time": "2023-06-06T11:15:16.958462400Z",
     "start_time": "2023-06-06T11:15:16.950513900Z"
    }
   }
  },
  {
   "cell_type": "code",
   "execution_count": 15,
   "outputs": [
    {
     "data": {
      "text/plain": "<function keyboard.add_hotkey.<locals>.remove_()>"
     },
     "execution_count": 15,
     "metadata": {},
     "output_type": "execute_result"
    }
   ],
   "source": [
    "# 为ctrl+f绑定快捷键\n",
    "keyboard.add_hotkey('ctrl+f', find_pronunciation)\n",
    "keyboard.add_hotkey('ctrl+s', find_search)"
   ],
   "metadata": {
    "collapsed": false,
    "ExecuteTime": {
     "end_time": "2023-06-06T11:15:17.067003600Z",
     "start_time": "2023-06-06T11:15:16.959464Z"
    }
   }
  }
 ],
 "metadata": {
  "kernelspec": {
   "display_name": "Python 3",
   "language": "python",
   "name": "python3"
  },
  "language_info": {
   "codemirror_mode": {
    "name": "ipython",
    "version": 2
   },
   "file_extension": ".py",
   "mimetype": "text/x-python",
   "name": "python",
   "nbconvert_exporter": "python",
   "pygments_lexer": "ipython2",
   "version": "2.7.6"
  }
 },
 "nbformat": 4,
 "nbformat_minor": 0
}
