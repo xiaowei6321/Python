{
 "cells": [
  {
   "cell_type": "code",
   "execution_count": 1,
   "metadata": {
    "collapsed": true,
    "ExecuteTime": {
     "end_time": "2023-06-09T13:58:50.981165300Z",
     "start_time": "2023-06-09T13:58:50.807667100Z"
    }
   },
   "outputs": [],
   "source": [
    "import keyboard\n",
    "import pyautogui"
   ]
  },
  {
   "cell_type": "code",
   "execution_count": null,
   "outputs": [],
   "source": [
    "import keyboard\n",
    "import pyautogui\n",
    "import time\n",
    "def on_triggered_hotkey():\n",
    "    # 按下ctrl+alt+d\n",
    "    time.sleep(1)\n",
    "    keyboard.press_and_release('ctrl+alt+d')\n",
    "\n",
    "    # 移动鼠标到(100, 200)位置\n",
    "    pyautogui.moveTo(100, 800,duration=0.50)\n",
    "\n",
    "    # 按下鼠标左键\n",
    "    pyautogui.mouseDown()\n",
    "\n",
    "    # 移动鼠标到(200, 300)位置\n",
    "    pyautogui.moveTo(1800, 1100,duration=0.5)\n",
    "    # 松开鼠标左键\n",
    "    pyautogui.mouseUp()\n",
    "\n",
    "    pyautogui.moveTo(1800, 1100,duration=0.5)\n",
    "    pyautogui.click()\n",
    "\n",
    "\n",
    "# 定义快捷键组合，例如 'ctrl+alt+a'\n",
    "hotkey = 'shift+alt+d'\n",
    "\n",
    "# 当快捷键被触发时，调用 on_triggered_hotkey 函数\n",
    "keyboard.add_hotkey(hotkey, on_triggered_hotkey)\n",
    "\n",
    "# 阻止程序退出，保持监听状态\n",
    "keyboard.wait()"
   ],
   "metadata": {
    "collapsed": false,
    "is_executing": true,
    "ExecuteTime": {
     "start_time": "2023-06-09T13:58:50.982164100Z"
    }
   }
  },
  {
   "cell_type": "code",
   "execution_count": null,
   "outputs": [],
   "source": [
    "import keyboard\n",
    "\n",
    "def on_triggered_hotkey():\n",
    "    print(\"快捷键触发\")\n",
    "\n",
    "# 定义快捷键组合，例如 'ctrl+alt+a'\n",
    "hotkey = 'shift+alt+d'\n",
    "\n",
    "# 当快捷键被触发时，调用 on_triggered_hotkey 函数\n",
    "keyboard.add_hotkey(hotkey, on_triggered_hotkey)\n",
    "\n",
    "# 阻止程序退出，保持监听状态\n",
    "keyboard.wait()"
   ],
   "metadata": {
    "collapsed": false
   }
  },
  {
   "cell_type": "code",
   "execution_count": null,
   "outputs": [],
   "source": [],
   "metadata": {
    "collapsed": false
   }
  },
  {
   "cell_type": "code",
   "execution_count": 2,
   "outputs": [],
   "source": [
    "import pyautogui\n",
    "pyautogui.moveTo(1800, 1100)"
   ],
   "metadata": {
    "collapsed": false,
    "ExecuteTime": {
     "end_time": "2023-06-08T02:41:08.915725600Z",
     "start_time": "2023-06-08T02:41:08.812906400Z"
    }
   }
  },
  {
   "cell_type": "code",
   "execution_count": null,
   "outputs": [],
   "source": [
    "import  keyboard\n",
    "import pyautogui\n",
    "import time\n",
    "keyboard.press_and_release('ctrl+alt+d')\n",
    "time.sleep(1)\n",
    "# 移动鼠标到(100, 200)位置\n",
    "pyautogui.moveTo(100, 800,duration=0.50)\n",
    "\n",
    "# 按下鼠标左键\n",
    "pyautogui.mouseDown()\n",
    "\n",
    "# 移动鼠标到(200, 300)位置\n",
    "pyautogui.moveTo(1800, 1000,duration=0.5)\n",
    "# 松开鼠标左键\n",
    "pyautogui.mouseUp()"
   ],
   "metadata": {
    "collapsed": false
   }
  },
  {
   "cell_type": "markdown",
   "source": [],
   "metadata": {
    "collapsed": false
   }
  },
  {
   "cell_type": "code",
   "execution_count": null,
   "outputs": [],
   "source": [
    "import keyboard\n",
    "import time\n",
    "time.sleep(1)\n",
    "keyboard.press_and_release('ctrl+alt+d')"
   ],
   "metadata": {
    "collapsed": false
   }
  },
  {
   "cell_type": "code",
   "execution_count": null,
   "outputs": [],
   "source": [],
   "metadata": {
    "collapsed": false
   }
  }
 ],
 "metadata": {
  "kernelspec": {
   "display_name": "Python 3",
   "language": "python",
   "name": "python3"
  },
  "language_info": {
   "codemirror_mode": {
    "name": "ipython",
    "version": 2
   },
   "file_extension": ".py",
   "mimetype": "text/x-python",
   "name": "python",
   "nbconvert_exporter": "python",
   "pygments_lexer": "ipython2",
   "version": "2.7.6"
  }
 },
 "nbformat": 4,
 "nbformat_minor": 0
}
