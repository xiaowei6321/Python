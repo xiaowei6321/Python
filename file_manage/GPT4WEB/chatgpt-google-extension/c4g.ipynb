{
 "cells": [
  {
   "cell_type": "markdown",
   "source": [],
   "metadata": {
    "collapsed": false
   }
  },
  {
   "cell_type": "code",
   "execution_count": null,
   "metadata": {
    "collapsed": true
   },
   "outputs": [],
   "source": []
  },
  {
   "cell_type": "markdown",
   "source": [],
   "metadata": {
    "collapsed": false
   }
  },
  {
   "cell_type": "code",
   "execution_count": null,
   "outputs": [],
   "source": [],
   "metadata": {
    "collapsed": false
   }
  },
  {
   "cell_type": "markdown",
   "source": [],
   "metadata": {
    "collapsed": false
   }
  },
  {
   "cell_type": "code",
   "execution_count": 1,
   "outputs": [],
   "source": [],
   "metadata": {
    "collapsed": false,
    "ExecuteTime": {
     "end_time": "2023-06-28T07:28:07.204143500Z",
     "start_time": "2023-06-28T07:28:07.203143100Z"
    }
   }
  },
  {
   "cell_type": "code",
   "execution_count": null,
   "outputs": [],
   "source": [
    "KEY_ACCESS_TOKEN='''eyJhbGciOiJkaXIiLCJlbmMiOiJBMjU2R0NNIn0..7JVWFmF77gsHQhNs.-ellyl7CS8IMfBDLRnC7o7rBWmiU3lVjuxSpQLP-G089CxBhzgyTkWJWV5b2ju8wqNouU8a2Ou_oaDPAVkLnKAtJ5iUQttb3vCAu6hizxtuLzSNpmtsUszDjJEK-KExjeZ1i3BjgyOZFhkL0AExzB647i-CDXjknD1Xx0VQX44JOrOwx8KoNnjNIzjwa6UKNcvlqjxrLtUe_zu1VXEpjllzxMbtPCGdvxZyfUxVKze5eqmAGQLRg_xHftAxVbooi-5fPAVxyFM5ypxxpqu5DjjkfayFNW6xodT9EehSN8K_cNt52vUWBhWVCrtvQwsS3nozGa47Y6_oMbJj0CYQQ7L_99WaNt7ZyvrFAp_TSyoYS1C0_tK714E9IarmSOL1baH8WWMnjP4miQOsUUAZQCoq38UZFkrVsL0jsl5ZHpk7VCZHRN7zXscje25mletVvzdGZ4jfbWUjcONvfsrLLxxSSDl_1cDuDM2PMQDSQTmmaYA32XwmbzsI7QC0-UIAYN_jLuU6vWzuSEDKtRmBvGl86IH9_KSAOfwOfiVuzbJceAE0ns0Fy4b0kiVro7Em98l5sCcMz1KARUrolmoIx-81l5ObR4eJ9akBG4YuDDMwyVihM_oiDzlMNTLv9sMHG8GCRK7W9FhoRvz3EkbIxS1x2zaLTB43qcuFkXx0GXZjfcRVBx6aeErj5I4lYlhs3jc32gV0hpMMIRRznmkXvnIwqykvFHNu3veIuDYffZ2qT8R-9QTBoFPN550qZ-MX_MnWPySTBykxi1vQM1lu5ZSrna2cge8y7_APGtPuL2cdj_eSJQLyRGyEVyz80V0elKXDc74VBbABCLAxczMn6b2_90Bnzq_8AI8aAyPymfrCLdD8O4npum-0Q3-RxR5vGuUDtl6_Nh71LtWO9gH-R0_zXe3cguHDXSnr3fXrDv2fwGv_vLFLb46HanUzbL4V816FtXU4sl929h9SBpoam2WIfLHdOagrcRJfUPfWSMrAgpBpf_DgxJEENxvqWkcvNtl3jgHSN0hyzaaCedAUPxmtD0EoQPNwQBpswx038koY7kLgIk5q2F_I3pdZNM_udrL6B04opZFRKjEqWk9XCWmjcbyETVpixNeGbHVerGRONfmMEwOR_iK8VX_q62bnBVg9Ww7eyTeCsIwugInWjC1MCbbnt0cfd8UX6qRcTcY0hmZlF8t7bkqBc1iKrfTWB-2iDCOCDeXV6b2GUssSRCN8XrWjZ_h5p4t6y0F57gk9A9hmds_pAcs2t62E4XCKln-RNs6msPco8d6PjceIazImNhPFXp9eMKe2G-oN57A0BL6BFnjKeY5BUT65jxVjgEu-TaPMWsPqLXlVRlJw4WDhkUPfuWKp-fsasgADTwrKjGXnQrXl4M29PDg_WfKyjI2f-4P3YRgLZ2g691C29eEBdLmEjf8FVyA4BE2fAlL8RU-ZpzfHBLxE-hDfsdz_1-mcMfuDMIfWuE3b5AMGx4311fS83yF5WB6OK98vXzdAB8SXWg9pPb1-HN8lrYj4-mkPRlQAoP0psB2KLeiZy_YJAExiRh_0Gxs4DYST-uYRQIH2kf1Zvk9CrTEa4pI4-VJ71r0wSGwbF_GNsLZjH8EazncRL8V5Mgja_rcGoVJzwL6qa6Po9JiiLps8Yr8Ld9c95GLVAXCFKVbRdx2tDkLjlPUIEuHvRjarYOpOMCqdhnxsTiFSAJaowBKAJ97Eqye0SUoqde9lpDKFCnttr3bZaJxE507XIyM5OmHMiqsEg5RLANcpuj8jQyY9vDkI0UJGLJzI6eT80SI0elqBDzskga35QdqxHeqoXYZIdlaRipPKwwZk1oL7P3iw6MknDTiyRzsMPlFwBIfBdSm-N6YIXiSkqwuzlLeS284gCgkHi3lEKhY4Nv5qBecjGSNmWylBOos1tYDii2dtfh9NNoULV_sMV8ru-RIH9SWafVukVqPmDVHm1XHLibJkA0o9-942C9cvwgB3hj_OZv1nki5x9WOfGvKd7s2IOrawhlSdHyQYLN4haBXdktT3LnZgmrF-tsOqkHzqHo2hahk2hhJs7c6Rxq2MV6vxnyXJ4tAX-8NYSsQpfepuXjma62FiLBqGaarFrUxpo3HBlB9CNuUksYEoxBBfvabdhvnIab_8c6PpdSIE5W5Zh4oSUn7v-lhRjQTx4VWJDFH4tRPoBfcRKOM_VcUII-TRupio21kWu4XbATByrHjeTYbqTaR42yZ0F_Dus1w4oglCp-A5cAu8-e5t0uUK1e2OReSdNCcPCPf_B0vMy2GJZbzNka-m4TmpOSlUiuINjvJCyM4Gu1i07TNvZQ9M0AUTJ17wWk06-6MTKpwNYN4jaKQF--iUhY8sL6-851t1XKMchIPJV88_eV2ttVGF2RcQ7Iwz8-xIwopZ7vKln0cwjEc8QPKpkixfO_qKlBcR6vhkcgrsERpgKHMBivwqzlpH2XLGRO4IV2pijj-8Ryo9SkVjAQcSHknENvI28QMLeF5GnTq-JmSbpPJGwCJukFKdKk3LF-vYNRdc8XW7x9JqKMAizhGFBg1lcJnbDGBzFaB-ZG5jHd5Gd-yLDV6qqN9jxHmx8HtodS3JpEkd7sCru5d9Tg94pgu2diTOkow1Lo2UGnxM3wZRLu1C2ZCLeA_7EbYbFPouMqSFFK9aQZ-Q.sjws5gkMrGWWVEXBTp6HKw'''"
   ],
   "metadata": {
    "collapsed": false
   }
  },
  {
   "cell_type": "code",
   "execution_count": null,
   "outputs": [],
   "source": [
    "import flask,json\n",
    "from flask import request\n",
    "from revChatGPT.revChatGPT import Chatbot"
   ],
   "metadata": {
    "collapsed": false
   }
  },
  {
   "cell_type": "code",
   "execution_count": 5,
   "outputs": [
    {
     "ename": "Exception",
     "evalue": "CLOUDFLARE",
     "output_type": "error",
     "traceback": [
      "\u001B[1;31m---------------------------------------------------------------------------\u001B[0m",
      "\u001B[1;31mException\u001B[0m                                 Traceback (most recent call last)",
      "Cell \u001B[1;32mIn[5], line 19\u001B[0m\n\u001B[0;32m     17\u001B[0m     cache\u001B[38;5;241m.\u001B[39mset(KEY_ACCESS_TOKEN, data[\u001B[38;5;124m'\u001B[39m\u001B[38;5;124maccessToken\u001B[39m\u001B[38;5;124m'\u001B[39m])\n\u001B[0;32m     18\u001B[0m     \u001B[38;5;28;01mreturn\u001B[39;00m data[\u001B[38;5;124m'\u001B[39m\u001B[38;5;124maccessToken\u001B[39m\u001B[38;5;124m'\u001B[39m]\n\u001B[1;32m---> 19\u001B[0m ak\u001B[38;5;241m=\u001B[39m\u001B[43mget_chat_gpt_access_token\u001B[49m\u001B[43m(\u001B[49m\u001B[43m)\u001B[49m\n\u001B[0;32m     20\u001B[0m \u001B[38;5;28mprint\u001B[39m(ak)\n\u001B[0;32m     21\u001B[0m \u001B[38;5;124;03m'''\u001B[39;00m\n\u001B[0;32m     22\u001B[0m \u001B[38;5;124;03m这个代码是向chat.openai.com请求访问令牌,用于访问ChatGPT API。\u001B[39;00m\n\u001B[0;32m     23\u001B[0m \n\u001B[1;32m   (...)\u001B[0m\n\u001B[0;32m     38\u001B[0m \u001B[38;5;124;03m所以,总的来说,这个代码实现了向ChatGPT API请求访问令牌,并对不同的响应情况进行了异常处理。\u001B[39;00m\n\u001B[0;32m     39\u001B[0m \u001B[38;5;124;03m'''\u001B[39;00m\n",
      "Cell \u001B[1;32mIn[5], line 12\u001B[0m, in \u001B[0;36mget_chat_gpt_access_token\u001B[1;34m()\u001B[0m\n\u001B[0;32m     10\u001B[0m resp \u001B[38;5;241m=\u001B[39m requests\u001B[38;5;241m.\u001B[39mget(\u001B[38;5;124m'\u001B[39m\u001B[38;5;124mhttps://chat.openai.com/api/auth/session\u001B[39m\u001B[38;5;124m'\u001B[39m,proxies\u001B[38;5;241m=\u001B[39mproxy)\n\u001B[0;32m     11\u001B[0m \u001B[38;5;28;01mif\u001B[39;00m resp\u001B[38;5;241m.\u001B[39mstatus_code \u001B[38;5;241m==\u001B[39m \u001B[38;5;241m403\u001B[39m:\n\u001B[1;32m---> 12\u001B[0m     \u001B[38;5;28;01mraise\u001B[39;00m \u001B[38;5;167;01mException\u001B[39;00m(\u001B[38;5;124m'\u001B[39m\u001B[38;5;124mCLOUDFLARE\u001B[39m\u001B[38;5;124m'\u001B[39m)\n\u001B[0;32m     14\u001B[0m data \u001B[38;5;241m=\u001B[39m resp\u001B[38;5;241m.\u001B[39mjson()\n\u001B[0;32m     15\u001B[0m \u001B[38;5;28;01mif\u001B[39;00m \u001B[38;5;129;01mnot\u001B[39;00m data\u001B[38;5;241m.\u001B[39mget(\u001B[38;5;124m'\u001B[39m\u001B[38;5;124maccessToken\u001B[39m\u001B[38;5;124m'\u001B[39m):\n",
      "\u001B[1;31mException\u001B[0m: CLOUDFLARE"
     ]
    }
   ],
   "source": [
    "config={\n",
    "    'session':KEY_ACCESS_TOKEN\n",
    "}\n",
    "server=flask.Flask(__name__)\n"
   ],
   "metadata": {
    "collapsed": false,
    "ExecuteTime": {
     "end_time": "2023-06-28T07:37:27.611592700Z",
     "start_time": "2023-06-28T07:37:25.029194200Z"
    }
   }
  },
  {
   "cell_type": "code",
   "execution_count": null,
   "outputs": [],
   "source": [],
   "metadata": {
    "collapsed": false
   }
  }
 ],
 "metadata": {
  "kernelspec": {
   "display_name": "Python 3",
   "language": "python",
   "name": "python3"
  },
  "language_info": {
   "codemirror_mode": {
    "name": "ipython",
    "version": 2
   },
   "file_extension": ".py",
   "mimetype": "text/x-python",
   "name": "python",
   "nbconvert_exporter": "python",
   "pygments_lexer": "ipython2",
   "version": "2.7.6"
  }
 },
 "nbformat": 4,
 "nbformat_minor": 0
}
